{
  "nbformat": 4,
  "nbformat_minor": 0,
  "metadata": {
    "colab": {
      "provenance": [],
      "collapsed_sections": [
        "Ln10oKurN7-R",
        "P361sAtaOA3o",
        "WLc6TTQKN4GZ"
      ]
    },
    "kernelspec": {
      "name": "python3",
      "display_name": "Python 3"
    },
    "language_info": {
      "name": "python"
    }
  },
  "cells": [
    {
      "cell_type": "markdown",
      "source": [
        "# Trial 5"
      ],
      "metadata": {
        "id": "abiOhKwANv_H"
      }
    },
    {
      "cell_type": "code",
      "source": [
        "import pandas as pd\n",
        "import numpy as np\n",
        "from sklearn.preprocessing import MinMaxScaler\n",
        "from sklearn.model_selection import train_test_split\n",
        "\n",
        "# Membaca dataset\n",
        "df = pd.read_csv(\"/content/drive/MyDrive/Capstone/dataset.csv\")"
      ],
      "metadata": {
        "id": "odZ_gYZOK1yC"
      },
      "execution_count": 1,
      "outputs": []
    },
    {
      "cell_type": "code",
      "source": [
        "df.count()"
      ],
      "metadata": {
        "colab": {
          "base_uri": "https://localhost:8080/"
        },
        "id": "uFglJGjP2yzq",
        "outputId": "fa24ec41-41cc-477f-8003-f89d6ee4efbe"
      },
      "execution_count": 2,
      "outputs": [
        {
          "output_type": "execute_result",
          "data": {
            "text/plain": [
              "RecipeId                 22717\n",
              "Name                     22717\n",
              "CookTime                 22717\n",
              "PrepTime                 22717\n",
              "TotalTime                22717\n",
              "RecipeIngredientParts    22717\n",
              "Calories                 22717\n",
              "FatContent               22717\n",
              "SaturatedFatContent      22717\n",
              "CholesterolContent       22717\n",
              "SodiumContent            22717\n",
              "CarbohydrateContent      22717\n",
              "FiberContent             22717\n",
              "SugarContent             22717\n",
              "ProteinContent           22717\n",
              "RecipeInstructions       22717\n",
              "ImageUrl                 22717\n",
              "dtype: int64"
            ]
          },
          "metadata": {},
          "execution_count": 2
        }
      ]
    },
    {
      "cell_type": "code",
      "source": [
        "df = df[:8000]"
      ],
      "metadata": {
        "id": "aAS_dn_tXWCv"
      },
      "execution_count": 3,
      "outputs": []
    },
    {
      "cell_type": "code",
      "source": [
        "df.info()"
      ],
      "metadata": {
        "colab": {
          "base_uri": "https://localhost:8080/"
        },
        "id": "pP-NtyEKXdhs",
        "outputId": "0596f8f2-4b4b-43cd-e4ac-d9e78c9bce8f"
      },
      "execution_count": 4,
      "outputs": [
        {
          "output_type": "stream",
          "name": "stdout",
          "text": [
            "<class 'pandas.core.frame.DataFrame'>\n",
            "RangeIndex: 8000 entries, 0 to 7999\n",
            "Data columns (total 17 columns):\n",
            " #   Column                 Non-Null Count  Dtype  \n",
            "---  ------                 --------------  -----  \n",
            " 0   RecipeId               8000 non-null   int64  \n",
            " 1   Name                   8000 non-null   object \n",
            " 2   CookTime               8000 non-null   object \n",
            " 3   PrepTime               8000 non-null   object \n",
            " 4   TotalTime              8000 non-null   object \n",
            " 5   RecipeIngredientParts  8000 non-null   object \n",
            " 6   Calories               8000 non-null   float64\n",
            " 7   FatContent             8000 non-null   float64\n",
            " 8   SaturatedFatContent    8000 non-null   float64\n",
            " 9   CholesterolContent     8000 non-null   float64\n",
            " 10  SodiumContent          8000 non-null   float64\n",
            " 11  CarbohydrateContent    8000 non-null   float64\n",
            " 12  FiberContent           8000 non-null   float64\n",
            " 13  SugarContent           8000 non-null   float64\n",
            " 14  ProteinContent         8000 non-null   float64\n",
            " 15  RecipeInstructions     8000 non-null   object \n",
            " 16  ImageUrl               8000 non-null   object \n",
            "dtypes: float64(9), int64(1), object(7)\n",
            "memory usage: 1.0+ MB\n"
          ]
        }
      ]
    },
    {
      "cell_type": "code",
      "source": [
        "df.head()"
      ],
      "metadata": {
        "colab": {
          "base_uri": "https://localhost:8080/",
          "height": 461
        },
        "id": "UTrGqYYY6wx0",
        "outputId": "9c7b47e3-36a5-4aa7-9b15-692237d1111c"
      },
      "execution_count": 5,
      "outputs": [
        {
          "output_type": "execute_result",
          "data": {
            "text/plain": [
              "   RecipeId                            Name CookTime PrepTime TotalTime  \\\n",
              "0        41  Carina's Tofu-Vegetable Kebabs    PT20M    PT24H  PT24H20M   \n",
              "1        64               Almond Pound Cake     PT1H    PT15M   PT1H15M   \n",
              "2        94           Blueberry Buttertarts    PT25M    PT15M     PT40M   \n",
              "3       131            Buttermilk-Oat Bread    PT20M    PT30M     PT50M   \n",
              "4       168                  Anzac Biscuits    PT15M    PT10M     PT25M   \n",
              "\n",
              "                               RecipeIngredientParts  Calories  FatContent  \\\n",
              "0  c(\"extra firm tofu\", \"eggplant\", \"zucchini\", \"...     536.1        24.0   \n",
              "1  c(\"butter\", \"almond paste\", \"sugar\", \"eggs\", \"...     408.5        17.9   \n",
              "2  c(\"egg\", \"corn syrup\", \"lemon juice\", \"vanilla...     337.9        18.4   \n",
              "3  c(\"buttermilk\", \"honey\", \"butter\", \"margarine\"...      68.7         0.7   \n",
              "4  c(\"rolled oats\", \"plain flour\", \"sugar\", \"gold...     199.4        10.4   \n",
              "\n",
              "   SaturatedFatContent  CholesterolContent  SodiumContent  \\\n",
              "0                  3.8                 0.0         1558.6   \n",
              "1                  9.0               118.9          159.4   \n",
              "2                  4.7                17.6          125.7   \n",
              "3                  0.3                 1.4           88.4   \n",
              "4                  6.8                22.3          143.4   \n",
              "\n",
              "   CarbohydrateContent  FiberContent  SugarContent  ProteinContent  \\\n",
              "0                 64.2          17.3          32.1            29.3   \n",
              "1                 56.0           1.3          29.0             6.9   \n",
              "2                 40.2           1.2          11.5             4.2   \n",
              "3                 13.3           0.6           1.7             2.1   \n",
              "4                 25.0           1.5          10.9             2.2   \n",
              "\n",
              "                                  RecipeInstructions  \\\n",
              "0  c(\"Drain the tofu, carefully squeezing out exc...   \n",
              "1  c(\"Preheat oven to 350 degrees Fahrenheit.\", \"...   \n",
              "2  c(\"Preheat oven to 375F.\", \"Leave shells in fo...   \n",
              "3  c(\"For toasted rolled oats, place oats in a sh...   \n",
              "4  c(\"Mix oats, flour, sugar and coconut together...   \n",
              "\n",
              "                                            ImageUrl  \n",
              "0  https://encrypted-tbn0.gstatic.com/images?q=tb...  \n",
              "1  https://encrypted-tbn0.gstatic.com/images?q=tb...  \n",
              "2  https://encrypted-tbn0.gstatic.com/images?q=tb...  \n",
              "3  https://encrypted-tbn0.gstatic.com/images?q=tb...  \n",
              "4  https://encrypted-tbn0.gstatic.com/images?q=tb...  "
            ],
            "text/html": [
              "\n",
              "  <div id=\"df-b919b480-86bd-4c85-a1e7-28dc9be78016\">\n",
              "    <div class=\"colab-df-container\">\n",
              "      <div>\n",
              "<style scoped>\n",
              "    .dataframe tbody tr th:only-of-type {\n",
              "        vertical-align: middle;\n",
              "    }\n",
              "\n",
              "    .dataframe tbody tr th {\n",
              "        vertical-align: top;\n",
              "    }\n",
              "\n",
              "    .dataframe thead th {\n",
              "        text-align: right;\n",
              "    }\n",
              "</style>\n",
              "<table border=\"1\" class=\"dataframe\">\n",
              "  <thead>\n",
              "    <tr style=\"text-align: right;\">\n",
              "      <th></th>\n",
              "      <th>RecipeId</th>\n",
              "      <th>Name</th>\n",
              "      <th>CookTime</th>\n",
              "      <th>PrepTime</th>\n",
              "      <th>TotalTime</th>\n",
              "      <th>RecipeIngredientParts</th>\n",
              "      <th>Calories</th>\n",
              "      <th>FatContent</th>\n",
              "      <th>SaturatedFatContent</th>\n",
              "      <th>CholesterolContent</th>\n",
              "      <th>SodiumContent</th>\n",
              "      <th>CarbohydrateContent</th>\n",
              "      <th>FiberContent</th>\n",
              "      <th>SugarContent</th>\n",
              "      <th>ProteinContent</th>\n",
              "      <th>RecipeInstructions</th>\n",
              "      <th>ImageUrl</th>\n",
              "    </tr>\n",
              "  </thead>\n",
              "  <tbody>\n",
              "    <tr>\n",
              "      <th>0</th>\n",
              "      <td>41</td>\n",
              "      <td>Carina's Tofu-Vegetable Kebabs</td>\n",
              "      <td>PT20M</td>\n",
              "      <td>PT24H</td>\n",
              "      <td>PT24H20M</td>\n",
              "      <td>c(\"extra firm tofu\", \"eggplant\", \"zucchini\", \"...</td>\n",
              "      <td>536.1</td>\n",
              "      <td>24.0</td>\n",
              "      <td>3.8</td>\n",
              "      <td>0.0</td>\n",
              "      <td>1558.6</td>\n",
              "      <td>64.2</td>\n",
              "      <td>17.3</td>\n",
              "      <td>32.1</td>\n",
              "      <td>29.3</td>\n",
              "      <td>c(\"Drain the tofu, carefully squeezing out exc...</td>\n",
              "      <td>https://encrypted-tbn0.gstatic.com/images?q=tb...</td>\n",
              "    </tr>\n",
              "    <tr>\n",
              "      <th>1</th>\n",
              "      <td>64</td>\n",
              "      <td>Almond Pound Cake</td>\n",
              "      <td>PT1H</td>\n",
              "      <td>PT15M</td>\n",
              "      <td>PT1H15M</td>\n",
              "      <td>c(\"butter\", \"almond paste\", \"sugar\", \"eggs\", \"...</td>\n",
              "      <td>408.5</td>\n",
              "      <td>17.9</td>\n",
              "      <td>9.0</td>\n",
              "      <td>118.9</td>\n",
              "      <td>159.4</td>\n",
              "      <td>56.0</td>\n",
              "      <td>1.3</td>\n",
              "      <td>29.0</td>\n",
              "      <td>6.9</td>\n",
              "      <td>c(\"Preheat oven to 350 degrees Fahrenheit.\", \"...</td>\n",
              "      <td>https://encrypted-tbn0.gstatic.com/images?q=tb...</td>\n",
              "    </tr>\n",
              "    <tr>\n",
              "      <th>2</th>\n",
              "      <td>94</td>\n",
              "      <td>Blueberry Buttertarts</td>\n",
              "      <td>PT25M</td>\n",
              "      <td>PT15M</td>\n",
              "      <td>PT40M</td>\n",
              "      <td>c(\"egg\", \"corn syrup\", \"lemon juice\", \"vanilla...</td>\n",
              "      <td>337.9</td>\n",
              "      <td>18.4</td>\n",
              "      <td>4.7</td>\n",
              "      <td>17.6</td>\n",
              "      <td>125.7</td>\n",
              "      <td>40.2</td>\n",
              "      <td>1.2</td>\n",
              "      <td>11.5</td>\n",
              "      <td>4.2</td>\n",
              "      <td>c(\"Preheat oven to 375F.\", \"Leave shells in fo...</td>\n",
              "      <td>https://encrypted-tbn0.gstatic.com/images?q=tb...</td>\n",
              "    </tr>\n",
              "    <tr>\n",
              "      <th>3</th>\n",
              "      <td>131</td>\n",
              "      <td>Buttermilk-Oat Bread</td>\n",
              "      <td>PT20M</td>\n",
              "      <td>PT30M</td>\n",
              "      <td>PT50M</td>\n",
              "      <td>c(\"buttermilk\", \"honey\", \"butter\", \"margarine\"...</td>\n",
              "      <td>68.7</td>\n",
              "      <td>0.7</td>\n",
              "      <td>0.3</td>\n",
              "      <td>1.4</td>\n",
              "      <td>88.4</td>\n",
              "      <td>13.3</td>\n",
              "      <td>0.6</td>\n",
              "      <td>1.7</td>\n",
              "      <td>2.1</td>\n",
              "      <td>c(\"For toasted rolled oats, place oats in a sh...</td>\n",
              "      <td>https://encrypted-tbn0.gstatic.com/images?q=tb...</td>\n",
              "    </tr>\n",
              "    <tr>\n",
              "      <th>4</th>\n",
              "      <td>168</td>\n",
              "      <td>Anzac Biscuits</td>\n",
              "      <td>PT15M</td>\n",
              "      <td>PT10M</td>\n",
              "      <td>PT25M</td>\n",
              "      <td>c(\"rolled oats\", \"plain flour\", \"sugar\", \"gold...</td>\n",
              "      <td>199.4</td>\n",
              "      <td>10.4</td>\n",
              "      <td>6.8</td>\n",
              "      <td>22.3</td>\n",
              "      <td>143.4</td>\n",
              "      <td>25.0</td>\n",
              "      <td>1.5</td>\n",
              "      <td>10.9</td>\n",
              "      <td>2.2</td>\n",
              "      <td>c(\"Mix oats, flour, sugar and coconut together...</td>\n",
              "      <td>https://encrypted-tbn0.gstatic.com/images?q=tb...</td>\n",
              "    </tr>\n",
              "  </tbody>\n",
              "</table>\n",
              "</div>\n",
              "      <button class=\"colab-df-convert\" onclick=\"convertToInteractive('df-b919b480-86bd-4c85-a1e7-28dc9be78016')\"\n",
              "              title=\"Convert this dataframe to an interactive table.\"\n",
              "              style=\"display:none;\">\n",
              "        \n",
              "  <svg xmlns=\"http://www.w3.org/2000/svg\" height=\"24px\"viewBox=\"0 0 24 24\"\n",
              "       width=\"24px\">\n",
              "    <path d=\"M0 0h24v24H0V0z\" fill=\"none\"/>\n",
              "    <path d=\"M18.56 5.44l.94 2.06.94-2.06 2.06-.94-2.06-.94-.94-2.06-.94 2.06-2.06.94zm-11 1L8.5 8.5l.94-2.06 2.06-.94-2.06-.94L8.5 2.5l-.94 2.06-2.06.94zm10 10l.94 2.06.94-2.06 2.06-.94-2.06-.94-.94-2.06-.94 2.06-2.06.94z\"/><path d=\"M17.41 7.96l-1.37-1.37c-.4-.4-.92-.59-1.43-.59-.52 0-1.04.2-1.43.59L10.3 9.45l-7.72 7.72c-.78.78-.78 2.05 0 2.83L4 21.41c.39.39.9.59 1.41.59.51 0 1.02-.2 1.41-.59l7.78-7.78 2.81-2.81c.8-.78.8-2.07 0-2.86zM5.41 20L4 18.59l7.72-7.72 1.47 1.35L5.41 20z\"/>\n",
              "  </svg>\n",
              "      </button>\n",
              "      \n",
              "  <style>\n",
              "    .colab-df-container {\n",
              "      display:flex;\n",
              "      flex-wrap:wrap;\n",
              "      gap: 12px;\n",
              "    }\n",
              "\n",
              "    .colab-df-convert {\n",
              "      background-color: #E8F0FE;\n",
              "      border: none;\n",
              "      border-radius: 50%;\n",
              "      cursor: pointer;\n",
              "      display: none;\n",
              "      fill: #1967D2;\n",
              "      height: 32px;\n",
              "      padding: 0 0 0 0;\n",
              "      width: 32px;\n",
              "    }\n",
              "\n",
              "    .colab-df-convert:hover {\n",
              "      background-color: #E2EBFA;\n",
              "      box-shadow: 0px 1px 2px rgba(60, 64, 67, 0.3), 0px 1px 3px 1px rgba(60, 64, 67, 0.15);\n",
              "      fill: #174EA6;\n",
              "    }\n",
              "\n",
              "    [theme=dark] .colab-df-convert {\n",
              "      background-color: #3B4455;\n",
              "      fill: #D2E3FC;\n",
              "    }\n",
              "\n",
              "    [theme=dark] .colab-df-convert:hover {\n",
              "      background-color: #434B5C;\n",
              "      box-shadow: 0px 1px 3px 1px rgba(0, 0, 0, 0.15);\n",
              "      filter: drop-shadow(0px 1px 2px rgba(0, 0, 0, 0.3));\n",
              "      fill: #FFFFFF;\n",
              "    }\n",
              "  </style>\n",
              "\n",
              "      <script>\n",
              "        const buttonEl =\n",
              "          document.querySelector('#df-b919b480-86bd-4c85-a1e7-28dc9be78016 button.colab-df-convert');\n",
              "        buttonEl.style.display =\n",
              "          google.colab.kernel.accessAllowed ? 'block' : 'none';\n",
              "\n",
              "        async function convertToInteractive(key) {\n",
              "          const element = document.querySelector('#df-b919b480-86bd-4c85-a1e7-28dc9be78016');\n",
              "          const dataTable =\n",
              "            await google.colab.kernel.invokeFunction('convertToInteractive',\n",
              "                                                     [key], {});\n",
              "          if (!dataTable) return;\n",
              "\n",
              "          const docLinkHtml = 'Like what you see? Visit the ' +\n",
              "            '<a target=\"_blank\" href=https://colab.research.google.com/notebooks/data_table.ipynb>data table notebook</a>'\n",
              "            + ' to learn more about interactive tables.';\n",
              "          element.innerHTML = '';\n",
              "          dataTable['output_type'] = 'display_data';\n",
              "          await google.colab.output.renderOutput(dataTable, element);\n",
              "          const docLink = document.createElement('div');\n",
              "          docLink.innerHTML = docLinkHtml;\n",
              "          element.appendChild(docLink);\n",
              "        }\n",
              "      </script>\n",
              "    </div>\n",
              "  </div>\n",
              "  "
            ]
          },
          "metadata": {},
          "execution_count": 5
        }
      ]
    },
    {
      "cell_type": "code",
      "source": [
        "# Mengambil fitur yang diperlukan\n",
        "features = ['Calories', 'FatContent', 'SaturatedFatContent', 'CholesterolContent','SodiumContent', 'CarbohydrateContent', 'FiberContent', 'SugarContent', 'ProteinContent']\n",
        "data = df[features]\n",
        "\n",
        "# Menormalkan data\n",
        "scaler = MinMaxScaler()\n",
        "data_scaled = scaler.fit_transform(data)"
      ],
      "metadata": {
        "id": "obmOdneuLKxL"
      },
      "execution_count": 6,
      "outputs": []
    },
    {
      "cell_type": "code",
      "source": [
        "# Memisahkan fitur dan target\n",
        "X = data_scaled\n",
        "y = df['RecipeId']\n",
        "\n",
        "# Membagi data menjadi data latih dan data uji\n",
        "train_data, test_data = train_test_split(data_scaled, train_size=0.7, random_state=1)"
      ],
      "metadata": {
        "id": "1PETdvJFLPey"
      },
      "execution_count": 9,
      "outputs": []
    },
    {
      "cell_type": "code",
      "source": [
        "import tensorflow as tf\n",
        "\n",
        "# Membangun Model Architecture\n",
        "num_features = train_data.shape[1]\n",
        "\n",
        "model = tf.keras.models.Sequential([\n",
        "    tf.keras.layers.Dense(256, activation='relu', input_shape=(num_features,)),\n",
        "    tf.keras.layers.Dense(128, activation='relu'),\n",
        "    tf.keras.layers.Dense(64, activation='relu'),\n",
        "    tf.keras.layers.Dropout(0.2),\n",
        "    tf.keras.layers.Dense(32, activation='relu'),\n",
        "    tf.keras.layers.Dropout(0.2),\n",
        "    tf.keras.layers.Dense(num_features, activation='softmax')\n",
        "])\n",
        "\n",
        "# Compile and Train Model\n",
        "opt = tf.keras.optimizers.Adam(learning_rate=0.0001)\n",
        "model.compile(optimizer=opt, loss='mse', metrics=['accuracy'])\n",
        "\n",
        "model.fit(train_data, train_data, epochs=100)"
      ],
      "metadata": {
        "colab": {
          "base_uri": "https://localhost:8080/"
        },
        "id": "OYZfb10NLSi3",
        "outputId": "d25dde11-4a0f-4289-c9e3-134ea5ac5837"
      },
      "execution_count": 15,
      "outputs": [
        {
          "output_type": "stream",
          "name": "stdout",
          "text": [
            "Epoch 1/100\n",
            "175/175 [==============================] - 4s 7ms/step - loss: 0.0271 - accuracy: 0.4948\n",
            "Epoch 2/100\n",
            "175/175 [==============================] - 1s 7ms/step - loss: 0.0190 - accuracy: 0.6438\n",
            "Epoch 3/100\n",
            "175/175 [==============================] - 1s 4ms/step - loss: 0.0168 - accuracy: 0.7411\n",
            "Epoch 4/100\n",
            "175/175 [==============================] - 1s 3ms/step - loss: 0.0159 - accuracy: 0.7757\n",
            "Epoch 5/100\n",
            "175/175 [==============================] - 1s 4ms/step - loss: 0.0153 - accuracy: 0.7796\n",
            "Epoch 6/100\n",
            "175/175 [==============================] - 1s 3ms/step - loss: 0.0149 - accuracy: 0.7948\n",
            "Epoch 7/100\n",
            "175/175 [==============================] - 1s 4ms/step - loss: 0.0146 - accuracy: 0.7984\n",
            "Epoch 8/100\n",
            "175/175 [==============================] - 1s 4ms/step - loss: 0.0144 - accuracy: 0.8071\n",
            "Epoch 9/100\n",
            "175/175 [==============================] - 1s 4ms/step - loss: 0.0143 - accuracy: 0.8016\n",
            "Epoch 10/100\n",
            "175/175 [==============================] - 1s 3ms/step - loss: 0.0141 - accuracy: 0.8146\n",
            "Epoch 11/100\n",
            "175/175 [==============================] - 1s 4ms/step - loss: 0.0140 - accuracy: 0.8136\n",
            "Epoch 12/100\n",
            "175/175 [==============================] - 1s 6ms/step - loss: 0.0140 - accuracy: 0.8182\n",
            "Epoch 13/100\n",
            "175/175 [==============================] - 1s 5ms/step - loss: 0.0138 - accuracy: 0.8207\n",
            "Epoch 14/100\n",
            "175/175 [==============================] - 1s 5ms/step - loss: 0.0137 - accuracy: 0.8248\n",
            "Epoch 15/100\n",
            "175/175 [==============================] - 1s 6ms/step - loss: 0.0137 - accuracy: 0.8191\n",
            "Epoch 16/100\n",
            "175/175 [==============================] - 1s 4ms/step - loss: 0.0136 - accuracy: 0.8288\n",
            "Epoch 17/100\n",
            "175/175 [==============================] - 1s 4ms/step - loss: 0.0136 - accuracy: 0.8286\n",
            "Epoch 18/100\n",
            "175/175 [==============================] - 1s 4ms/step - loss: 0.0135 - accuracy: 0.8395\n",
            "Epoch 19/100\n",
            "175/175 [==============================] - 1s 4ms/step - loss: 0.0134 - accuracy: 0.8366\n",
            "Epoch 20/100\n",
            "175/175 [==============================] - 1s 4ms/step - loss: 0.0134 - accuracy: 0.8382\n",
            "Epoch 21/100\n",
            "175/175 [==============================] - 1s 4ms/step - loss: 0.0134 - accuracy: 0.8413\n",
            "Epoch 22/100\n",
            "175/175 [==============================] - 1s 3ms/step - loss: 0.0133 - accuracy: 0.8416\n",
            "Epoch 23/100\n",
            "175/175 [==============================] - 1s 3ms/step - loss: 0.0133 - accuracy: 0.8455\n",
            "Epoch 24/100\n",
            "175/175 [==============================] - 1s 4ms/step - loss: 0.0133 - accuracy: 0.8343\n",
            "Epoch 25/100\n",
            "175/175 [==============================] - 1s 4ms/step - loss: 0.0132 - accuracy: 0.8361\n",
            "Epoch 26/100\n",
            "175/175 [==============================] - 1s 3ms/step - loss: 0.0132 - accuracy: 0.8405\n",
            "Epoch 27/100\n",
            "175/175 [==============================] - 1s 4ms/step - loss: 0.0131 - accuracy: 0.8466\n",
            "Epoch 28/100\n",
            "175/175 [==============================] - 1s 4ms/step - loss: 0.0131 - accuracy: 0.8402\n",
            "Epoch 29/100\n",
            "175/175 [==============================] - 1s 3ms/step - loss: 0.0131 - accuracy: 0.8520\n",
            "Epoch 30/100\n",
            "175/175 [==============================] - 1s 4ms/step - loss: 0.0131 - accuracy: 0.8445\n",
            "Epoch 31/100\n",
            "175/175 [==============================] - 1s 4ms/step - loss: 0.0130 - accuracy: 0.8491\n",
            "Epoch 32/100\n",
            "175/175 [==============================] - 1s 6ms/step - loss: 0.0130 - accuracy: 0.8487\n",
            "Epoch 33/100\n",
            "175/175 [==============================] - 1s 6ms/step - loss: 0.0130 - accuracy: 0.8461\n",
            "Epoch 34/100\n",
            "175/175 [==============================] - 1s 5ms/step - loss: 0.0130 - accuracy: 0.8482\n",
            "Epoch 35/100\n",
            "175/175 [==============================] - 1s 6ms/step - loss: 0.0129 - accuracy: 0.8523\n",
            "Epoch 36/100\n",
            "175/175 [==============================] - 1s 4ms/step - loss: 0.0129 - accuracy: 0.8539\n",
            "Epoch 37/100\n",
            "175/175 [==============================] - 1s 3ms/step - loss: 0.0129 - accuracy: 0.8598\n",
            "Epoch 38/100\n",
            "175/175 [==============================] - 1s 3ms/step - loss: 0.0129 - accuracy: 0.8466\n",
            "Epoch 39/100\n",
            "175/175 [==============================] - 1s 4ms/step - loss: 0.0129 - accuracy: 0.8491\n",
            "Epoch 40/100\n",
            "175/175 [==============================] - 1s 4ms/step - loss: 0.0128 - accuracy: 0.8480\n",
            "Epoch 41/100\n",
            "175/175 [==============================] - 1s 4ms/step - loss: 0.0128 - accuracy: 0.8530\n",
            "Epoch 42/100\n",
            "175/175 [==============================] - 1s 4ms/step - loss: 0.0128 - accuracy: 0.8500\n",
            "Epoch 43/100\n",
            "175/175 [==============================] - 1s 4ms/step - loss: 0.0128 - accuracy: 0.8554\n",
            "Epoch 44/100\n",
            "175/175 [==============================] - 1s 4ms/step - loss: 0.0128 - accuracy: 0.8541\n",
            "Epoch 45/100\n",
            "175/175 [==============================] - 1s 3ms/step - loss: 0.0128 - accuracy: 0.8543\n",
            "Epoch 46/100\n",
            "175/175 [==============================] - 1s 3ms/step - loss: 0.0127 - accuracy: 0.8582\n",
            "Epoch 47/100\n",
            "175/175 [==============================] - 1s 4ms/step - loss: 0.0127 - accuracy: 0.8646\n",
            "Epoch 48/100\n",
            "175/175 [==============================] - 1s 3ms/step - loss: 0.0127 - accuracy: 0.8584\n",
            "Epoch 49/100\n",
            "175/175 [==============================] - 1s 4ms/step - loss: 0.0127 - accuracy: 0.8600\n",
            "Epoch 50/100\n",
            "175/175 [==============================] - 1s 4ms/step - loss: 0.0127 - accuracy: 0.8571\n",
            "Epoch 51/100\n",
            "175/175 [==============================] - 1s 4ms/step - loss: 0.0127 - accuracy: 0.8612\n",
            "Epoch 52/100\n",
            "175/175 [==============================] - 1s 5ms/step - loss: 0.0127 - accuracy: 0.8561\n",
            "Epoch 53/100\n",
            "175/175 [==============================] - 1s 6ms/step - loss: 0.0126 - accuracy: 0.8604\n",
            "Epoch 54/100\n",
            "175/175 [==============================] - 1s 5ms/step - loss: 0.0126 - accuracy: 0.8646\n",
            "Epoch 55/100\n",
            "175/175 [==============================] - 1s 5ms/step - loss: 0.0126 - accuracy: 0.8602\n",
            "Epoch 56/100\n",
            "175/175 [==============================] - 1s 5ms/step - loss: 0.0126 - accuracy: 0.8514\n",
            "Epoch 57/100\n",
            "175/175 [==============================] - 1s 4ms/step - loss: 0.0126 - accuracy: 0.8602\n",
            "Epoch 58/100\n",
            "175/175 [==============================] - 1s 4ms/step - loss: 0.0126 - accuracy: 0.8611\n",
            "Epoch 59/100\n",
            "175/175 [==============================] - 1s 4ms/step - loss: 0.0126 - accuracy: 0.8621\n",
            "Epoch 60/100\n",
            "175/175 [==============================] - 1s 7ms/step - loss: 0.0126 - accuracy: 0.8637\n",
            "Epoch 61/100\n",
            "175/175 [==============================] - 1s 6ms/step - loss: 0.0125 - accuracy: 0.8568\n",
            "Epoch 62/100\n",
            "175/175 [==============================] - 1s 4ms/step - loss: 0.0125 - accuracy: 0.8595\n",
            "Epoch 63/100\n",
            "175/175 [==============================] - 1s 4ms/step - loss: 0.0125 - accuracy: 0.8616\n",
            "Epoch 64/100\n",
            "175/175 [==============================] - 1s 4ms/step - loss: 0.0125 - accuracy: 0.8530\n",
            "Epoch 65/100\n",
            "175/175 [==============================] - 1s 4ms/step - loss: 0.0125 - accuracy: 0.8570\n",
            "Epoch 66/100\n",
            "175/175 [==============================] - 1s 4ms/step - loss: 0.0125 - accuracy: 0.8709\n",
            "Epoch 67/100\n",
            "175/175 [==============================] - 1s 3ms/step - loss: 0.0125 - accuracy: 0.8618\n",
            "Epoch 68/100\n",
            "175/175 [==============================] - 1s 4ms/step - loss: 0.0125 - accuracy: 0.8655\n",
            "Epoch 69/100\n",
            "175/175 [==============================] - 1s 4ms/step - loss: 0.0125 - accuracy: 0.8682\n",
            "Epoch 70/100\n",
            "175/175 [==============================] - 1s 3ms/step - loss: 0.0125 - accuracy: 0.8666\n",
            "Epoch 71/100\n",
            "175/175 [==============================] - 1s 6ms/step - loss: 0.0125 - accuracy: 0.8614\n",
            "Epoch 72/100\n",
            "175/175 [==============================] - 1s 6ms/step - loss: 0.0124 - accuracy: 0.8636\n",
            "Epoch 73/100\n",
            "175/175 [==============================] - 1s 5ms/step - loss: 0.0124 - accuracy: 0.8646\n",
            "Epoch 74/100\n",
            "175/175 [==============================] - 1s 5ms/step - loss: 0.0124 - accuracy: 0.8643\n",
            "Epoch 75/100\n",
            "175/175 [==============================] - 1s 5ms/step - loss: 0.0124 - accuracy: 0.8661\n",
            "Epoch 76/100\n",
            "175/175 [==============================] - 1s 3ms/step - loss: 0.0124 - accuracy: 0.8627\n",
            "Epoch 77/100\n",
            "175/175 [==============================] - 1s 3ms/step - loss: 0.0124 - accuracy: 0.8670\n",
            "Epoch 78/100\n",
            "175/175 [==============================] - 1s 4ms/step - loss: 0.0124 - accuracy: 0.8677\n",
            "Epoch 79/100\n",
            "175/175 [==============================] - 1s 4ms/step - loss: 0.0124 - accuracy: 0.8704\n",
            "Epoch 80/100\n",
            "175/175 [==============================] - 1s 3ms/step - loss: 0.0124 - accuracy: 0.8646\n",
            "Epoch 81/100\n",
            "175/175 [==============================] - 1s 4ms/step - loss: 0.0124 - accuracy: 0.8664\n",
            "Epoch 82/100\n",
            "175/175 [==============================] - 1s 4ms/step - loss: 0.0124 - accuracy: 0.8691\n",
            "Epoch 83/100\n",
            "175/175 [==============================] - 1s 4ms/step - loss: 0.0124 - accuracy: 0.8621\n",
            "Epoch 84/100\n",
            "175/175 [==============================] - 1s 4ms/step - loss: 0.0124 - accuracy: 0.8682\n",
            "Epoch 85/100\n",
            "175/175 [==============================] - 1s 4ms/step - loss: 0.0123 - accuracy: 0.8657\n",
            "Epoch 86/100\n",
            "175/175 [==============================] - 1s 4ms/step - loss: 0.0123 - accuracy: 0.8682\n",
            "Epoch 87/100\n",
            "175/175 [==============================] - 1s 3ms/step - loss: 0.0124 - accuracy: 0.8664\n",
            "Epoch 88/100\n",
            "175/175 [==============================] - 1s 3ms/step - loss: 0.0123 - accuracy: 0.8777\n",
            "Epoch 89/100\n",
            "175/175 [==============================] - 1s 3ms/step - loss: 0.0124 - accuracy: 0.8673\n",
            "Epoch 90/100\n",
            "175/175 [==============================] - 1s 3ms/step - loss: 0.0123 - accuracy: 0.8689\n",
            "Epoch 91/100\n",
            "175/175 [==============================] - 1s 4ms/step - loss: 0.0123 - accuracy: 0.8623\n",
            "Epoch 92/100\n",
            "175/175 [==============================] - 1s 6ms/step - loss: 0.0123 - accuracy: 0.8661\n",
            "Epoch 93/100\n",
            "175/175 [==============================] - 1s 5ms/step - loss: 0.0123 - accuracy: 0.8646\n",
            "Epoch 94/100\n",
            "175/175 [==============================] - 1s 5ms/step - loss: 0.0123 - accuracy: 0.8671\n",
            "Epoch 95/100\n",
            "175/175 [==============================] - 1s 5ms/step - loss: 0.0123 - accuracy: 0.8705\n",
            "Epoch 96/100\n",
            "175/175 [==============================] - 1s 5ms/step - loss: 0.0123 - accuracy: 0.8736\n",
            "Epoch 97/100\n",
            "175/175 [==============================] - 1s 3ms/step - loss: 0.0123 - accuracy: 0.8679\n",
            "Epoch 98/100\n",
            "175/175 [==============================] - 1s 3ms/step - loss: 0.0123 - accuracy: 0.8723\n",
            "Epoch 99/100\n",
            "175/175 [==============================] - 1s 4ms/step - loss: 0.0123 - accuracy: 0.8734\n",
            "Epoch 100/100\n",
            "175/175 [==============================] - 1s 4ms/step - loss: 0.0123 - accuracy: 0.8632\n"
          ]
        },
        {
          "output_type": "execute_result",
          "data": {
            "text/plain": [
              "<keras.callbacks.History at 0x7fb982d6ec80>"
            ]
          },
          "metadata": {},
          "execution_count": 15
        }
      ]
    },
    {
      "cell_type": "code",
      "source": [
        "model.summary()"
      ],
      "metadata": {
        "colab": {
          "base_uri": "https://localhost:8080/"
        },
        "id": "18D6I_wz1MuE",
        "outputId": "f338184b-fcef-4f76-fc88-5156816db51e"
      },
      "execution_count": 16,
      "outputs": [
        {
          "output_type": "stream",
          "name": "stdout",
          "text": [
            "Model: \"sequential_2\"\n",
            "_________________________________________________________________\n",
            " Layer (type)                Output Shape              Param #   \n",
            "=================================================================\n",
            " dense_10 (Dense)            (None, 256)               2560      \n",
            "                                                                 \n",
            " dense_11 (Dense)            (None, 128)               32896     \n",
            "                                                                 \n",
            " dense_12 (Dense)            (None, 64)                8256      \n",
            "                                                                 \n",
            " dropout_4 (Dropout)         (None, 64)                0         \n",
            "                                                                 \n",
            " dense_13 (Dense)            (None, 32)                2080      \n",
            "                                                                 \n",
            " dropout_5 (Dropout)         (None, 32)                0         \n",
            "                                                                 \n",
            " dense_14 (Dense)            (None, 9)                 297       \n",
            "                                                                 \n",
            "=================================================================\n",
            "Total params: 46,089\n",
            "Trainable params: 46,089\n",
            "Non-trainable params: 0\n",
            "_________________________________________________________________\n"
          ]
        }
      ]
    },
    {
      "cell_type": "code",
      "source": [
        "# Melatih model dengan data latih dan mengukur validation loss\n",
        "history = model.fit(train_data, train_data, validation_data=(test_data, test_data), epochs=50)\n",
        "val_loss = history.history['val_loss']"
      ],
      "metadata": {
        "colab": {
          "base_uri": "https://localhost:8080/"
        },
        "id": "0L3fX20O1NnJ",
        "outputId": "cdcfd201-03cb-4346-e70f-ad7781c51d61"
      },
      "execution_count": 19,
      "outputs": [
        {
          "output_type": "stream",
          "name": "stdout",
          "text": [
            "Epoch 1/50\n",
            "175/175 [==============================] - 2s 10ms/step - loss: 0.0123 - accuracy: 0.8695 - val_loss: 0.0121 - val_accuracy: 0.9267\n",
            "Epoch 2/50\n",
            "175/175 [==============================] - 2s 10ms/step - loss: 0.0123 - accuracy: 0.8612 - val_loss: 0.0121 - val_accuracy: 0.9246\n",
            "Epoch 3/50\n",
            "175/175 [==============================] - 3s 19ms/step - loss: 0.0123 - accuracy: 0.8679 - val_loss: 0.0122 - val_accuracy: 0.9179\n",
            "Epoch 4/50\n",
            "175/175 [==============================] - 4s 23ms/step - loss: 0.0122 - accuracy: 0.8677 - val_loss: 0.0122 - val_accuracy: 0.9158\n",
            "Epoch 5/50\n",
            "175/175 [==============================] - 3s 14ms/step - loss: 0.0123 - accuracy: 0.8680 - val_loss: 0.0122 - val_accuracy: 0.9154\n",
            "Epoch 6/50\n",
            "175/175 [==============================] - 2s 9ms/step - loss: 0.0122 - accuracy: 0.8689 - val_loss: 0.0121 - val_accuracy: 0.9267\n",
            "Epoch 7/50\n",
            "175/175 [==============================] - 1s 5ms/step - loss: 0.0122 - accuracy: 0.8689 - val_loss: 0.0121 - val_accuracy: 0.9229\n",
            "Epoch 8/50\n",
            "175/175 [==============================] - 1s 4ms/step - loss: 0.0122 - accuracy: 0.8693 - val_loss: 0.0121 - val_accuracy: 0.9246\n",
            "Epoch 9/50\n",
            "175/175 [==============================] - 1s 5ms/step - loss: 0.0122 - accuracy: 0.8712 - val_loss: 0.0121 - val_accuracy: 0.9262\n",
            "Epoch 10/50\n",
            "175/175 [==============================] - 1s 4ms/step - loss: 0.0122 - accuracy: 0.8680 - val_loss: 0.0121 - val_accuracy: 0.9262\n",
            "Epoch 11/50\n",
            "175/175 [==============================] - 1s 5ms/step - loss: 0.0122 - accuracy: 0.8632 - val_loss: 0.0121 - val_accuracy: 0.9246\n",
            "Epoch 12/50\n",
            "175/175 [==============================] - 1s 4ms/step - loss: 0.0122 - accuracy: 0.8741 - val_loss: 0.0121 - val_accuracy: 0.9212\n",
            "Epoch 13/50\n",
            "175/175 [==============================] - 1s 4ms/step - loss: 0.0122 - accuracy: 0.8687 - val_loss: 0.0121 - val_accuracy: 0.9333\n",
            "Epoch 14/50\n",
            "175/175 [==============================] - 1s 4ms/step - loss: 0.0122 - accuracy: 0.8657 - val_loss: 0.0121 - val_accuracy: 0.9246\n",
            "Epoch 15/50\n",
            "175/175 [==============================] - 1s 4ms/step - loss: 0.0122 - accuracy: 0.8725 - val_loss: 0.0121 - val_accuracy: 0.9287\n",
            "Epoch 16/50\n",
            "175/175 [==============================] - 1s 6ms/step - loss: 0.0123 - accuracy: 0.8680 - val_loss: 0.0121 - val_accuracy: 0.9229\n",
            "Epoch 17/50\n",
            "175/175 [==============================] - 1s 7ms/step - loss: 0.0122 - accuracy: 0.8680 - val_loss: 0.0121 - val_accuracy: 0.9192\n",
            "Epoch 18/50\n",
            "175/175 [==============================] - 1s 7ms/step - loss: 0.0122 - accuracy: 0.8736 - val_loss: 0.0121 - val_accuracy: 0.9304\n",
            "Epoch 19/50\n",
            "175/175 [==============================] - 1s 7ms/step - loss: 0.0122 - accuracy: 0.8712 - val_loss: 0.0121 - val_accuracy: 0.9279\n",
            "Epoch 20/50\n",
            "175/175 [==============================] - 1s 6ms/step - loss: 0.0122 - accuracy: 0.8662 - val_loss: 0.0121 - val_accuracy: 0.9217\n",
            "Epoch 21/50\n",
            "175/175 [==============================] - 1s 4ms/step - loss: 0.0122 - accuracy: 0.8654 - val_loss: 0.0121 - val_accuracy: 0.9229\n",
            "Epoch 22/50\n",
            "175/175 [==============================] - 1s 4ms/step - loss: 0.0122 - accuracy: 0.8677 - val_loss: 0.0121 - val_accuracy: 0.9258\n",
            "Epoch 23/50\n",
            "175/175 [==============================] - 1s 4ms/step - loss: 0.0122 - accuracy: 0.8680 - val_loss: 0.0121 - val_accuracy: 0.9262\n",
            "Epoch 24/50\n",
            "175/175 [==============================] - 1s 4ms/step - loss: 0.0122 - accuracy: 0.8680 - val_loss: 0.0121 - val_accuracy: 0.9258\n",
            "Epoch 25/50\n",
            "175/175 [==============================] - 1s 4ms/step - loss: 0.0122 - accuracy: 0.8661 - val_loss: 0.0121 - val_accuracy: 0.9237\n",
            "Epoch 26/50\n",
            "175/175 [==============================] - 1s 4ms/step - loss: 0.0122 - accuracy: 0.8702 - val_loss: 0.0121 - val_accuracy: 0.9179\n",
            "Epoch 27/50\n",
            "175/175 [==============================] - 1s 5ms/step - loss: 0.0122 - accuracy: 0.8727 - val_loss: 0.0121 - val_accuracy: 0.9258\n",
            "Epoch 28/50\n",
            "175/175 [==============================] - 1s 7ms/step - loss: 0.0122 - accuracy: 0.8693 - val_loss: 0.0121 - val_accuracy: 0.9242\n",
            "Epoch 29/50\n",
            "175/175 [==============================] - 1s 8ms/step - loss: 0.0122 - accuracy: 0.8684 - val_loss: 0.0121 - val_accuracy: 0.9283\n",
            "Epoch 30/50\n",
            "175/175 [==============================] - 1s 7ms/step - loss: 0.0122 - accuracy: 0.8666 - val_loss: 0.0121 - val_accuracy: 0.9312\n",
            "Epoch 31/50\n",
            "175/175 [==============================] - 1s 7ms/step - loss: 0.0122 - accuracy: 0.8743 - val_loss: 0.0121 - val_accuracy: 0.9233\n",
            "Epoch 32/50\n",
            "175/175 [==============================] - 1s 7ms/step - loss: 0.0122 - accuracy: 0.8691 - val_loss: 0.0121 - val_accuracy: 0.9187\n",
            "Epoch 33/50\n",
            "175/175 [==============================] - 1s 8ms/step - loss: 0.0122 - accuracy: 0.8721 - val_loss: 0.0121 - val_accuracy: 0.9208\n",
            "Epoch 34/50\n",
            "175/175 [==============================] - 1s 7ms/step - loss: 0.0122 - accuracy: 0.8714 - val_loss: 0.0121 - val_accuracy: 0.9292\n",
            "Epoch 35/50\n",
            "175/175 [==============================] - 1s 4ms/step - loss: 0.0122 - accuracy: 0.8634 - val_loss: 0.0121 - val_accuracy: 0.9233\n",
            "Epoch 36/50\n",
            "175/175 [==============================] - 1s 4ms/step - loss: 0.0122 - accuracy: 0.8679 - val_loss: 0.0121 - val_accuracy: 0.9217\n",
            "Epoch 37/50\n",
            "175/175 [==============================] - 1s 5ms/step - loss: 0.0122 - accuracy: 0.8712 - val_loss: 0.0121 - val_accuracy: 0.9317\n",
            "Epoch 38/50\n",
            "175/175 [==============================] - 1s 5ms/step - loss: 0.0122 - accuracy: 0.8668 - val_loss: 0.0121 - val_accuracy: 0.9229\n",
            "Epoch 39/50\n",
            "175/175 [==============================] - 1s 4ms/step - loss: 0.0122 - accuracy: 0.8648 - val_loss: 0.0121 - val_accuracy: 0.9287\n",
            "Epoch 40/50\n",
            "175/175 [==============================] - 1s 4ms/step - loss: 0.0122 - accuracy: 0.8720 - val_loss: 0.0121 - val_accuracy: 0.9225\n",
            "Epoch 41/50\n",
            "175/175 [==============================] - 1s 5ms/step - loss: 0.0121 - accuracy: 0.8766 - val_loss: 0.0121 - val_accuracy: 0.9200\n",
            "Epoch 42/50\n",
            "175/175 [==============================] - 1s 5ms/step - loss: 0.0121 - accuracy: 0.8743 - val_loss: 0.0121 - val_accuracy: 0.9150\n",
            "Epoch 43/50\n",
            "175/175 [==============================] - 1s 5ms/step - loss: 0.0121 - accuracy: 0.8675 - val_loss: 0.0121 - val_accuracy: 0.9221\n",
            "Epoch 44/50\n",
            "175/175 [==============================] - 1s 4ms/step - loss: 0.0121 - accuracy: 0.8702 - val_loss: 0.0121 - val_accuracy: 0.9279\n",
            "Epoch 45/50\n",
            "175/175 [==============================] - 1s 5ms/step - loss: 0.0121 - accuracy: 0.8745 - val_loss: 0.0121 - val_accuracy: 0.9225\n",
            "Epoch 46/50\n",
            "175/175 [==============================] - 1s 5ms/step - loss: 0.0121 - accuracy: 0.8679 - val_loss: 0.0121 - val_accuracy: 0.9279\n",
            "Epoch 47/50\n",
            "175/175 [==============================] - 1s 7ms/step - loss: 0.0121 - accuracy: 0.8757 - val_loss: 0.0121 - val_accuracy: 0.9283\n",
            "Epoch 48/50\n",
            "175/175 [==============================] - 1s 8ms/step - loss: 0.0121 - accuracy: 0.8686 - val_loss: 0.0121 - val_accuracy: 0.9283\n",
            "Epoch 49/50\n",
            "175/175 [==============================] - 1s 7ms/step - loss: 0.0121 - accuracy: 0.8737 - val_loss: 0.0121 - val_accuracy: 0.9292\n",
            "Epoch 50/50\n",
            "175/175 [==============================] - 1s 5ms/step - loss: 0.0121 - accuracy: 0.8732 - val_loss: 0.0121 - val_accuracy: 0.9250\n"
          ]
        }
      ]
    },
    {
      "cell_type": "code",
      "source": [
        "import matplotlib.pyplot as plt\n",
        "\n",
        "plt.figure(figsize=(10,5))\n",
        "plt.plot(history.history[\"loss\"],label=\"Training Loss\")\n",
        "plt.plot(history.history[\"val_loss\"], label = \"Validation Loss\")\n",
        "plt.title(\"Training Loss & Validation Loss\")\n",
        "plt.xlabel(\"Epoch\")\n",
        "plt.ylabel(\"Loss\")\n",
        "plt.legend()\n",
        "plt.show"
      ],
      "metadata": {
        "colab": {
          "base_uri": "https://localhost:8080/",
          "height": 505
        },
        "id": "AMtEr1kK1Nqj",
        "outputId": "341ef4f8-ec24-488c-fa83-1a4ec8d62946"
      },
      "execution_count": 20,
      "outputs": [
        {
          "output_type": "execute_result",
          "data": {
            "text/plain": [
              "<function matplotlib.pyplot.show(close=None, block=None)>"
            ]
          },
          "metadata": {},
          "execution_count": 20
        },
        {
          "output_type": "display_data",
          "data": {
            "text/plain": [
              "<Figure size 1000x500 with 1 Axes>"
            ],
            "image/png": "[encoded data removed]"
          },
          "metadata": {}
        }
      ]
    },
    {
      "cell_type": "code",
      "source": [
        "# Generate Recommendations\n",
        "\n",
        "# Get the latent representation of the input data\n",
        "latent_features = model.predict(data)\n",
        "\n",
        "# Calculate cosine similarity between each pair of latent features\n",
        "similarity_matrix = np.dot(latent_features, latent_features.T)\n",
        "norms = np.linalg.norm(latent_features, axis=1, keepdims=True)\n",
        "similarity_matrix /= np.dot(norms, norms.T)"
      ],
      "metadata": {
        "colab": {
          "base_uri": "https://localhost:8080/"
        },
        "id": "_mh6G4PZ405z",
        "outputId": "7e16db82-f6e9-4c13-8c4a-90df81a807a0"
      },
      "execution_count": 21,
      "outputs": [
        {
          "output_type": "stream",
          "name": "stdout",
          "text": [
            "250/250 [==============================] - 1s 2ms/step\n"
          ]
        }
      ]
    },
    {
      "cell_type": "code",
      "source": [
        "latent_features.shape"
      ],
      "metadata": {
        "colab": {
          "base_uri": "https://localhost:8080/"
        },
        "id": "CUvpLlap-Xdp",
        "outputId": "75a4e6f2-25cd-43f1-e51f-9fab835cd898"
      },
      "execution_count": null,
      "outputs": [
        {
          "output_type": "execute_result",
          "data": {
            "text/plain": [
              "(2000, 9)"
            ]
          },
          "metadata": {},
          "execution_count": 14
        }
      ]
    },
    {
      "cell_type": "code",
      "source": [
        "# Generate recommendations for each item\n",
        "\n",
        "recommendations = {}\n",
        "for i in range(len(data)):\n",
        "    similar_indices = similarity_matrix[i].argsort()[::-1]  # Sort similarity in descending order\n",
        "    similar_items = [(similarity_matrix[i][j], j) for j in similar_indices if j != i]  # Exclude the item itself\n",
        "    recommendations[i] = similar_items"
      ],
      "metadata": {
        "id": "YT_IPjBA48Ca"
      },
      "execution_count": 22,
      "outputs": []
    },
    {
      "cell_type": "code",
      "source": [
        "len(recommendations)"
      ],
      "metadata": {
        "colab": {
          "base_uri": "https://localhost:8080/"
        },
        "id": "nBwXyX6h1Gqx",
        "outputId": "7ca67b40-b52d-4d4b-d9e9-6eefce73bae4"
      },
      "execution_count": 23,
      "outputs": [
        {
          "output_type": "execute_result",
          "data": {
            "text/plain": [
              "8000"
            ]
          },
          "metadata": {},
          "execution_count": 23
        }
      ]
    },
    {
      "cell_type": "code",
      "source": [
        "#Make recommendations\n",
        "\n",
        "def calculate_bmr(gender, weight, height, age):\n",
        "    \"\"\"\n",
        "    Calculate basal metabolic rate (BMR) based on gender, weight, height, and age.\n",
        "    \n",
        "    Args:\n",
        "        gender (str): Gender of the individual ('male' or 'female').\n",
        "        weight (float): Weight of the individual in kilograms.\n",
        "        height (float): Height of the individual in centimeters.\n",
        "        age (int): Age of the individual in years.\n",
        "        \n",
        "    Return:\n",
        "        float: Basal metabolic rate (BMR) value.\n",
        "    \"\"\"\n",
        "    if gender == 'male':\n",
        "        bmr = 10 * weight + 6.25 * height - 5 * age + 5\n",
        "    elif gender == 'female':\n",
        "        bmr = 10 * weight + 6.25 * height - 5 * age - 161\n",
        "    else:\n",
        "        raise ValueError(\"Invalid gender. Please choose 'male' or 'female'.\")\n",
        "    return bmr\n",
        "\n",
        "def calculate_total_calories(bmr, activity_level, target):\n",
        "    \"\"\"\n",
        "    Calculate total daily calories based on basal metabolic rate (BMR), activity level, and target.\n",
        "    \n",
        "    Args:\n",
        "        bmr (float): Basal metabolic rate (BMR) value.\n",
        "        activity_level (str): Activity level of the individual ('easy', 'medium', 'hard', 'extreme').\n",
        "        target (str): Target of the individual ('reduce_weight', 'increase_muscle', 'be_healthy').\n",
        "        \n",
        "    Return:\n",
        "        int: Total daily calories value.\n",
        "    \"\"\"\n",
        "    activity_levels = {\n",
        "        'easy': 1.375,\n",
        "        'medium': 1.55,\n",
        "        'hard': 1.725,\n",
        "        'extreme': 1.9\n",
        "    }\n",
        "    targets = {\n",
        "        'reduce_weight': 0.8,\n",
        "        'increase_muscle': 1.2,\n",
        "        'be_healthy': 1\n",
        "    }\n",
        "    maintain_calories = bmr * activity_levels[activity_level]\n",
        "    total_calories = maintain_calories * targets[target]\n",
        "    return round(total_calories)\n",
        "\n",
        "def recommend_food(gender, weight, height, age, activity_level, target):\n",
        "    \"\"\"\n",
        "    Make food recommendations based on user information and preferences.\n",
        "    \n",
        "    Args:\n",
        "        gender (str): Gender of the user ('male' or 'female').\n",
        "        weight (float): Weight of the user in kilograms.\n",
        "        height (float): Height of the user in centimeters.\n",
        "        age (int): Age of the user in years.\n",
        "        activity_level (str): Activity level of the user ('easy', 'medium', 'hard', 'extreme').\n",
        "        target (str): Target of the user ('reduce_weight', 'increase_muscle', 'be_healthy').\n",
        "        \n",
        "    Return:\n",
        "        list: Recommended food based on the user's preferences.\n",
        "    \"\"\"\n",
        "    bmr = calculate_bmr(gender, weight, height, age)\n",
        "    total_calories = calculate_total_calories(bmr, activity_level, target)\n",
        "\n",
        "    # Make predictions for a new user\n",
        "    user_input = np.array([[total_calories, 0, 0, 0, 0, 0, 0, 0, 0]])  # Example user with desired total calories\n",
        "    scaled_user = scaler.transform(user_input)\n",
        "    predictions = model.predict(scaled_user)\n",
        "\n",
        "    # Mencari indeks dengan nilai maksimum dalam predictions\n",
        "    max_index = np.argmax(predictions.flatten())\n",
        "\n",
        "    # Mencari nilai yang bersesuaian dengan indeks dalam recommendations\n",
        "    indices = np.array(recommendations[max_index])\n",
        "\n",
        "    # Get recommended recipes based on matching values\n",
        "    recommended_food = df.iloc[indices[:, 1].astype(int)][\"Name\"]\n",
        "\n",
        "    print('bmr: ', bmr)\n",
        "    print('total calories: ', total_calories)\n",
        "    print('user input: ', user_input)\n",
        "    print('scaled user: ', scaled_user)\n",
        "    print('predictions: ', predictions)\n",
        "    print('index: ', max_index)\n",
        "    print()\n",
        "    return recommended_food"
      ],
      "metadata": {
        "id": "-GzpfVk6sw6C"
      },
      "execution_count": 25,
      "outputs": []
    },
    {
      "cell_type": "code",
      "source": [
        "# Nyobanyoba\n",
        "gender = 'female'\n",
        "weight = 90\n",
        "height = 170\n",
        "age = 30\n",
        "activity_level = 'easy'\n",
        "target = 'reduce_weight'\n",
        "\n",
        "output = recommend_food(gender, weight, height, age, activity_level, target)"
      ],
      "metadata": {
        "colab": {
          "base_uri": "https://localhost:8080/"
        },
        "id": "IVsjYHSaprk7",
        "outputId": "4bd684d8-e9a7-43e3-d612-efab84a156f1"
      },
      "execution_count": 26,
      "outputs": [
        {
          "output_type": "stream",
          "name": "stderr",
          "text": [
            "/usr/local/lib/python3.10/dist-packages/sklearn/base.py:439: UserWarning: X does not have valid feature names, but MinMaxScaler was fitted with feature names\n",
            "  warnings.warn(\n"
          ]
        },
        {
          "output_type": "stream",
          "name": "stdout",
          "text": [
            "1/1 [==============================] - 0s 151ms/step\n",
            "bmr:  1651.5\n",
            "total calories:  1816.65\n",
            "user input:  [[1816.65    0.      0.      0.      0.      0.      0.      0.      0.  ]]\n",
            "scaled user:  [[1.39185565 0.         0.         0.         0.         0.\n",
            "  0.         0.         0.        ]]\n",
            "predictions:  [[5.8581066e-01 4.1188635e-02 9.0323724e-03 1.6729333e-04 5.3913337e-03\n",
            "  3.3457756e-01 8.7742554e-03 1.1413253e-02 3.6445686e-03]]\n",
            "index:  0\n",
            "\n"
          ]
        }
      ]
    },
    {
      "cell_type": "code",
      "source": [
        "output"
      ],
      "metadata": {
        "id": "DweIBMZijE_D",
        "colab": {
          "base_uri": "https://localhost:8080/"
        },
        "outputId": "93dfca87-b0e1-4546-b214-73088cb899d2"
      },
      "execution_count": 27,
      "outputs": [
        {
          "output_type": "execute_result",
          "data": {
            "text/plain": [
              "7999    Mushroom, Parmesan and Basil Muffins\n",
              "2436     Country Bean, Beef and Cabbage Soup\n",
              "3249                       Easy Ravioli Bake\n",
              "3250                      Asparagus Parmesan\n",
              "3252                   Barley Mushroom Pilaf\n",
              "                        ...                 \n",
              "3419    Arabic Cardamom Shortbread (Gorayba)\n",
              "3425                  Mini Honey Cheesecakes\n",
              "3426                Diabetic Blueberry Syrup\n",
              "6980                  Chocolate Chip Cookies\n",
              "3718                            Treacle Tart\n",
              "Name: Name, Length: 7999, dtype: object"
            ]
          },
          "metadata": {},
          "execution_count": 27
        }
      ]
    },
    {
      "cell_type": "code",
      "source": [
        "# Nyobanyoba\n",
        "gender = 'male'\n",
        "weight = 30\n",
        "height = 140\n",
        "age = 10\n",
        "activity_level = 'easy'\n",
        "target = 'increase_muscle'\n",
        "\n",
        "output = recommend_food(gender, weight, height, age, activity_level, target)"
      ],
      "metadata": {
        "colab": {
          "base_uri": "https://localhost:8080/"
        },
        "id": "TE6kMK1pj_cQ",
        "outputId": "35ba739d-f8e8-4ba9-c0f8-384817f13792"
      },
      "execution_count": 30,
      "outputs": [
        {
          "output_type": "stream",
          "name": "stderr",
          "text": [
            "/usr/local/lib/python3.10/dist-packages/sklearn/base.py:439: UserWarning: X does not have valid feature names, but MinMaxScaler was fitted with feature names\n",
            "  warnings.warn(\n"
          ]
        },
        {
          "output_type": "stream",
          "name": "stdout",
          "text": [
            "1/1 [==============================] - 0s 105ms/step\n",
            "bmr:  1130.0\n",
            "total calories:  1864.5\n",
            "user input:  [[1864.5    0.     0.     0.     0.     0.     0.     0.     0. ]]\n",
            "scaled user:  [[1.4285167 0.        0.        0.        0.        0.        0.\n",
            "  0.        0.       ]]\n",
            "predictions:  [[5.9192377e-01 3.8893502e-02 8.1621194e-03 1.3832642e-04 4.8698676e-03\n",
            "  3.3431813e-01 7.9666255e-03 1.0490088e-02 3.2374607e-03]]\n",
            "index:  0\n",
            "\n"
          ]
        }
      ]
    },
    {
      "cell_type": "code",
      "source": [
        "output"
      ],
      "metadata": {
        "colab": {
          "base_uri": "https://localhost:8080/"
        },
        "id": "eSSkoQ5Cj_rx",
        "outputId": "31237bca-e467-4397-ee98-e90989eb3c02"
      },
      "execution_count": 31,
      "outputs": [
        {
          "output_type": "execute_result",
          "data": {
            "text/plain": [
              "7999    Mushroom, Parmesan and Basil Muffins\n",
              "2436     Country Bean, Beef and Cabbage Soup\n",
              "3249                       Easy Ravioli Bake\n",
              "3250                      Asparagus Parmesan\n",
              "3252                   Barley Mushroom Pilaf\n",
              "                        ...                 \n",
              "3419    Arabic Cardamom Shortbread (Gorayba)\n",
              "3425                  Mini Honey Cheesecakes\n",
              "3426                Diabetic Blueberry Syrup\n",
              "6980                  Chocolate Chip Cookies\n",
              "3718                            Treacle Tart\n",
              "Name: Name, Length: 7999, dtype: object"
            ]
          },
          "metadata": {},
          "execution_count": 31
        }
      ]
    },
    {
      "cell_type": "markdown",
      "source": [
        "# Breakfast = 0.35, Lunch = 0.40, Dinner = 0.25\n",
        "Parameter API\n",
        "BB\n",
        "TB\n",
        "UMUR\n",
        "Aktivitas\n",
        "Target\n",
        "\n",
        "Perhitungan BMI\n",
        "1. Laki - laki \n",
        "BMR = 10 * BB + 6.25 * TB - 5 * Umur + 5\n",
        "2. Perempuan\n",
        "BMR = 10 * BB + 6.25 * TB - 5 * Umur - 161\n",
        "\n",
        "Aktivitas\n",
        "Easy = 1.375\n",
        "Medium = 1.55\n",
        "Hard = 1.725\n",
        "Extreme = 1.9\n",
        "\n",
        "Target \n",
        "Reduce Weight = 0.8\n",
        "Increase Muscle = 1.2\n",
        "Be Healthy = 1\n",
        "\n",
        "\n",
        "Maintain Calories\n",
        "Maintain_Calories = BMR * Aktivitas\n",
        "\n",
        "Total Calories\n",
        "Total_Calories = Maintain_Calories * Target"
      ],
      "metadata": {
        "id": "6hARquMDebtR"
      }
    },
    {
      "cell_type": "code",
      "source": [
        "def calculate_bmr(gender, weight, height, age):\n",
        "    if gender == 'male':\n",
        "        bmr = 10 * weight + 6.25 * height - 5 * age + 5\n",
        "    elif gender == 'female':\n",
        "        bmr = 10 * weight + 6.25 * height - 5 * age - 161\n",
        "    else:\n",
        "        raise ValueError(\"Invalid gender. Please choose 'male' or 'female'.\")\n",
        "    return bmr\n",
        "\n",
        "def calculate_total_calories(bmr, activity_level, target):\n",
        "    activity_levels = {\n",
        "        'easy': 1.375,\n",
        "        'medium': 1.55,\n",
        "        'hard': 1.725,\n",
        "        'extreme': 1.9\n",
        "    }\n",
        "    targets = {\n",
        "        'reduce_weight': 0.8,\n",
        "        'increase_muscle': 1.2,\n",
        "        'be_healthy': 1\n",
        "    }\n",
        "    maintain_calories = bmr * activity_levels[activity_level]\n",
        "    total_calories = maintain_calories * targets[target]\n",
        "    return total_calories\n",
        "\n",
        "def recommend_food(gender, weight, height, age, activity_level, target):\n",
        "    bmr = calculate_bmr(gender, weight, height, age)\n",
        "    total_calories = calculate_total_calories(bmr, activity_level, target)\n",
        "\n",
        "    # Make predictions for a users breakfast\n",
        "    user_breakfast = np.array([[total_calories*0.35, 0, 0, 0, 0, 0, 0, 0, 0]])  # Example user with desired total calories\n",
        "    scaled_breakfast = scaler.transform(user_breakfast)\n",
        "    predict_breakfast = model.predict(scaled_breakfast)\n",
        "\n",
        "    # Mencari indeks dengan nilai maksimum dalam predictions\n",
        "    breakfast_index = np.argmax(predict_breakfast)\n",
        "\n",
        "    # Mencari nilai yang bersesuaian dengan indeks dalam recommendations\n",
        "    indices = np.array(recommendations[breakfast_index])\n",
        "\n",
        "    # Get recommended recipes based on matching values\n",
        "    recommended_food = df.iloc[indices[:, 1].astype(int)][\"Name\"]\n",
        "\n",
        "    print('bmr: ', bmr)\n",
        "    print('total calories: ', total_calories)\n",
        "    print('user input: ', user_breakfast)\n",
        "    print('scaled user: ', scaled_breakfast)\n",
        "    print('predictions: ', predict_breakfast)\n",
        "    print('index: ', breakfast_index)\n",
        "    print()\n",
        "    return recommended_food"
      ],
      "metadata": {
        "id": "jTSPELqD-ns7"
      },
      "execution_count": 36,
      "outputs": []
    },
    {
      "cell_type": "code",
      "source": [
        "# Nyobanyoba\n",
        "gender = 'male'\n",
        "weight = 30\n",
        "height = 140\n",
        "age = 10\n",
        "activity_level = 'easy'\n",
        "target = 'increase_muscle'\n",
        "\n",
        "recommend_food(gender, weight, height, age, activity_level, target)"
      ],
      "metadata": {
        "colab": {
          "base_uri": "https://localhost:8080/"
        },
        "id": "mU2STXa1-nwh",
        "outputId": "2a121395-13e8-4512-cce5-baf559125cd6"
      },
      "execution_count": 37,
      "outputs": [
        {
          "output_type": "stream",
          "name": "stderr",
          "text": [
            "/usr/local/lib/python3.10/dist-packages/sklearn/base.py:439: UserWarning: X does not have valid feature names, but MinMaxScaler was fitted with feature names\n",
            "  warnings.warn(\n"
          ]
        },
        {
          "output_type": "stream",
          "name": "stdout",
          "text": [
            "1/1 [==============================] - 0s 95ms/step\n",
            "bmr:  1130.0\n",
            "total calories:  1864.5\n",
            "user input:  [[652.575   0.      0.      0.      0.      0.      0.      0.      0.   ]]\n",
            "scaled user:  [[0.49998085 0.         0.         0.         0.         0.\n",
            "  0.         0.         0.        ]]\n",
            "predictions:  [[0.31669927 0.11241952 0.06925137 0.01660199 0.04995224 0.24522275\n",
            "  0.06408791 0.07522122 0.05054373]]\n",
            "index:  0\n",
            "\n"
          ]
        },
        {
          "output_type": "execute_result",
          "data": {
            "text/plain": [
              "7999    Mushroom, Parmesan and Basil Muffins\n",
              "2436     Country Bean, Beef and Cabbage Soup\n",
              "3249                       Easy Ravioli Bake\n",
              "3250                      Asparagus Parmesan\n",
              "3252                   Barley Mushroom Pilaf\n",
              "                        ...                 \n",
              "3419    Arabic Cardamom Shortbread (Gorayba)\n",
              "3425                  Mini Honey Cheesecakes\n",
              "3426                Diabetic Blueberry Syrup\n",
              "6980                  Chocolate Chip Cookies\n",
              "3718                            Treacle Tart\n",
              "Name: Name, Length: 7999, dtype: object"
            ]
          },
          "metadata": {},
          "execution_count": 37
        }
      ]
    },
    {
      "cell_type": "markdown",
      "source": [
        "Recommend Food without model"
      ],
      "metadata": {
        "id": "MPj_ZNAx-oU5"
      }
    },
    {
      "cell_type": "code",
      "source": [
        "def recommend_food(gender, weight, height, age, activity_level, target):\n",
        "    bmr = calculate_bmr(gender, weight, height, age)\n",
        "    total_calories = calculate_total_calories(bmr, activity_level, target)\n",
        "\n",
        "    # Generate recommendations based on total_calories and meal ratios\n",
        "    breakfast_calories = total_calories * 0.35\n",
        "    lunch_calories = total_calories * 0.40\n",
        "    dinner_calories = total_calories * 0.25\n",
        "\n",
        "    # Filter dataset based on calorie content\n",
        "    breakfast_data = df[df['Calories'] <= breakfast_calories]\n",
        "    lunch_data = df[df['Calories'] <= lunch_calories]\n",
        "    dinner_data = df[df['Calories'] <= dinner_calories]\n",
        "\n",
        "    # Create a user input array with zeros for all features except Calories\n",
        "    user_input = np.zeros(len(features))\n",
        "    user_input[0] = total_calories\n",
        "\n",
        "    # Calculate similarity scores between each food item and the user's input\n",
        "    breakfast_scores = np.dot(breakfast_data[features].values, user_input)\n",
        "    lunch_scores = np.dot(lunch_data[features].values, user_input)\n",
        "    dinner_scores = np.dot(dinner_data[features].values, user_input)\n",
        "\n",
        "    # Get the indices of top 3 recommended items for each meal\n",
        "    breakfast_indices = breakfast_scores.argsort(axis=0)[-3:].flatten()[::-1]\n",
        "    lunch_indices = lunch_scores.argsort(axis=0)[-3:].flatten()[::-1]\n",
        "    dinner_indices = dinner_scores.argsort(axis=0)[-3:].flatten()[::-1]\n",
        "\n",
        "    # Get the names of the recommended items\n",
        "    breakfast_recommendations = breakfast_data.iloc[breakfast_indices]['Name'].tolist()\n",
        "    lunch_recommendations = lunch_data.iloc[lunch_indices]['Name'].tolist()\n",
        "    dinner_recommendations = dinner_data.iloc[dinner_indices]['Name'].tolist()\n",
        "\n",
        "    print(\"Basal Metabolic Rate:\", bmr)\n",
        "    print(\"Total Calories:\", total_calories)\n",
        "    print(\" :\", breakfast_calories, lunch_calories, dinner_calories)\n",
        "\n",
        "    return breakfast_recommendations, lunch_recommendations, dinner_recommendations"
      ],
      "metadata": {
        "id": "JUMlv8TJq5Eg"
      },
      "execution_count": null,
      "outputs": []
    },
    {
      "cell_type": "code",
      "source": [
        "# Nyobanyoba\n",
        "gender = 'male'\n",
        "weight = 70\n",
        "height = 180\n",
        "age = 20\n",
        "activity_level = 'medium'\n",
        "target = 'be_healthy'\n",
        "\n",
        "recommend_food(gender, weight, height, age, activity_level, target)"
      ],
      "metadata": {
        "colab": {
          "base_uri": "https://localhost:8080/"
        },
        "id": "En38Wedki6-6",
        "outputId": "291b69bd-4aa5-41bd-a70c-1e843af41545"
      },
      "execution_count": null,
      "outputs": [
        {
          "output_type": "stream",
          "name": "stdout",
          "text": [
            "Basal Metabolic Rate: 1730.0\n",
            "Total Calories: 2681.5\n",
            " : 938.525 1072.6000000000001 670.375\n"
          ]
        },
        {
          "output_type": "execute_result",
          "data": {
            "text/plain": [
              "(['tofu/egg burritos',\n",
              "  'California Club Sandwich',\n",
              "  'Garbanzo Roast with Sherry Sauce'],\n",
              " ['Baked Stuffed Butternut Squash, Vegetarian',\n",
              "  'Vineyard Punch',\n",
              "  'Maori  (New Zealand) Fry Bread'],\n",
              " [\"I've Haddock Enough!\", 'Biscochitos', 'Shrimp & Avocado Roll'])"
            ]
          },
          "metadata": {},
          "execution_count": 27
        }
      ]
    },
    {
      "cell_type": "code",
      "source": [],
      "metadata": {
        "id": "1l7farT6i8zv"
      },
      "execution_count": null,
      "outputs": []
    }
  ]
}