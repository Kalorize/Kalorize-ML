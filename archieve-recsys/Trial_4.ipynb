{
  "nbformat": 4,
  "nbformat_minor": 0,
  "metadata": {
    "colab": {
      "provenance": []
    },
    "kernelspec": {
      "name": "python3",
      "display_name": "Python 3"
    },
    "language_info": {
      "name": "python"
    }
  },
  "cells": [
    {
      "cell_type": "code",
      "execution_count": 1,
      "metadata": {
        "id": "vbYYyzGRmtsY"
      },
      "outputs": [],
      "source": [
        "import numpy as np\n",
        "import pandas as pd\n",
        "import tensorflow as tf\n",
        "from tensorflow import keras\n",
        "from sklearn.preprocessing import StandardScaler, MinMaxScaler\n",
        "from sklearn.model_selection import train_test_split"
      ]
    },
    {
      "cell_type": "code",
      "source": [
        "# Load Data\n",
        "df = pd.read_csv(\"/content/drive/MyDrive/Capstone/dataset.csv\")\n",
        "df.count()"
      ],
      "metadata": {
        "colab": {
          "base_uri": "https://localhost:8080/"
        },
        "id": "puJFKWQgm3aI",
        "outputId": "5dfc7f93-de07-44e2-f450-d86541f37740"
      },
      "execution_count": 3,
      "outputs": [
        {
          "output_type": "execute_result",
          "data": {
            "text/plain": [
              "RecipeId                 22717\n",
              "Name                     22717\n",
              "CookTime                 22717\n",
              "PrepTime                 22717\n",
              "TotalTime                22717\n",
              "RecipeIngredientParts    22717\n",
              "Calories                 22717\n",
              "FatContent               22717\n",
              "SaturatedFatContent      22717\n",
              "CholesterolContent       22717\n",
              "SodiumContent            22717\n",
              "CarbohydrateContent      22717\n",
              "FiberContent             22717\n",
              "SugarContent             22717\n",
              "ProteinContent           22717\n",
              "RecipeInstructions       22717\n",
              "ImageUrl                 22717\n",
              "dtype: int64"
            ]
          },
          "metadata": {},
          "execution_count": 3
        }
      ]
    },
    {
      "cell_type": "code",
      "source": [
        "# Fill missing values\n",
        "df[[\"RecipeId\",\"Name\",\"Calories\", \"FatContent\", \"SaturatedFatContent\", \"CholesterolContent\",\n",
        "             \"SodiumContent\", \"CarbohydrateContent\", \"FiberContent\", \"SugarContent\", \"ProteinContent\"]].fillna(value=df[[\"RecipeId\",\"Name\",\"Calories\", \"FatContent\", \"SaturatedFatContent\", \"CholesterolContent\",\n",
        "             \"SodiumContent\", \"CarbohydrateContent\", \"FiberContent\", \"SugarContent\", \"ProteinContent\"]].mean(), inplace=True)\n",
        "\n",
        "# Remove duplicates\n",
        "df.drop_duplicates(inplace=True)\n",
        "\n",
        "# Convert data types\n",
        "df[[\"Calories\", \"FatContent\", \"SaturatedFatContent\", \"CholesterolContent\",\n",
        "             \"SodiumContent\", \"CarbohydrateContent\", \"FiberContent\", \"SugarContent\", \"ProteinContent\"]] = df[[\"Calories\", \"FatContent\", \"SaturatedFatContent\", \"CholesterolContent\",\n",
        "             \"SodiumContent\", \"CarbohydrateContent\", \"FiberContent\", \"SugarContent\", \"ProteinContent\"]].astype('float')"
      ],
      "metadata": {
        "colab": {
          "base_uri": "https://localhost:8080/"
        },
        "id": "h5P3VhSIm3cr",
        "outputId": "e5bb97d2-453c-4f4a-c5bd-3c06bab2808d"
      },
      "execution_count": 4,
      "outputs": [
        {
          "output_type": "stream",
          "name": "stderr",
          "text": [
            "<ipython-input-4-245fbb7db889>:4: FutureWarning: The default value of numeric_only in DataFrame.mean is deprecated. In a future version, it will default to False. In addition, specifying 'numeric_only=None' is deprecated. Select only valid columns or specify the value of numeric_only to silence this warning.\n",
            "  \"SodiumContent\", \"CarbohydrateContent\", \"FiberContent\", \"SugarContent\", \"ProteinContent\"]].mean(), inplace=True)\n",
            "<ipython-input-4-245fbb7db889>:2: SettingWithCopyWarning: \n",
            "A value is trying to be set on a copy of a slice from a DataFrame.\n",
            "Try using .loc[row_indexer,col_indexer] = value instead\n",
            "\n",
            "See the caveats in the documentation: https://pandas.pydata.org/pandas-docs/stable/user_guide/indexing.html#returning-a-view-versus-a-copy\n",
            "  df[[\"RecipeId\",\"Name\",\"Calories\", \"FatContent\", \"SaturatedFatContent\", \"CholesterolContent\",\n"
          ]
        }
      ]
    },
    {
      "cell_type": "code",
      "source": [
        "df.info()"
      ],
      "metadata": {
        "colab": {
          "base_uri": "https://localhost:8080/"
        },
        "id": "qu8Awdc6m3eB",
        "outputId": "d4994060-e700-46bd-b863-65c313b342a7"
      },
      "execution_count": 5,
      "outputs": [
        {
          "output_type": "stream",
          "name": "stdout",
          "text": [
            "<class 'pandas.core.frame.DataFrame'>\n",
            "Int64Index: 22717 entries, 0 to 22716\n",
            "Data columns (total 17 columns):\n",
            " #   Column                 Non-Null Count  Dtype  \n",
            "---  ------                 --------------  -----  \n",
            " 0   RecipeId               22717 non-null  int64  \n",
            " 1   Name                   22717 non-null  object \n",
            " 2   CookTime               22717 non-null  object \n",
            " 3   PrepTime               22717 non-null  object \n",
            " 4   TotalTime              22717 non-null  object \n",
            " 5   RecipeIngredientParts  22717 non-null  object \n",
            " 6   Calories               22717 non-null  float64\n",
            " 7   FatContent             22717 non-null  float64\n",
            " 8   SaturatedFatContent    22717 non-null  float64\n",
            " 9   CholesterolContent     22717 non-null  float64\n",
            " 10  SodiumContent          22717 non-null  float64\n",
            " 11  CarbohydrateContent    22717 non-null  float64\n",
            " 12  FiberContent           22717 non-null  float64\n",
            " 13  SugarContent           22717 non-null  float64\n",
            " 14  ProteinContent         22717 non-null  float64\n",
            " 15  RecipeInstructions     22717 non-null  object \n",
            " 16  ImageUrl               22717 non-null  object \n",
            "dtypes: float64(9), int64(1), object(7)\n",
            "memory usage: 3.1+ MB\n"
          ]
        }
      ]
    },
    {
      "cell_type": "code",
      "source": [
        "data = df[[\"Calories\", \"FatContent\", \"SaturatedFatContent\", \"CholesterolContent\",\n",
        "             \"SodiumContent\", \"CarbohydrateContent\", \"FiberContent\", \"SugarContent\", \"ProteinContent\"]]\n",
        "\n",
        "# Preprocess Data\n",
        "scaler = StandardScaler()\n",
        "scaled_data = scaler.fit_transform(data)\n",
        "\n",
        "# Split data into training and test sets\n",
        "train_data, test_data = train_test_split(scaled_data, train_size=0.8, random_state=1)"
      ],
      "metadata": {
        "id": "7yMYPlhom3f7"
      },
      "execution_count": 6,
      "outputs": []
    },
    {
      "cell_type": "code",
      "source": [
        "# Define Model Architecture\n",
        "num_features = train_data.shape[1]\n",
        "\n",
        "model = tf.keras.models.Sequential([\n",
        "    tf.keras.layers.Dense(256, activation='relu', input_shape=(num_features,)),\n",
        "    tf.keras.layers.Dense(128, activation='relu'),\n",
        "    tf.keras.layers.Dense(64, activation='relu'),\n",
        "    tf.keras.layers.Dense(num_features),\n",
        "])\n",
        "\n",
        "model.summary()"
      ],
      "metadata": {
        "colab": {
          "base_uri": "https://localhost:8080/"
        },
        "id": "8lReufDhm3ks",
        "outputId": "99ce429f-c141-401e-d68a-5764a2ebe67f"
      },
      "execution_count": 9,
      "outputs": [
        {
          "output_type": "stream",
          "name": "stdout",
          "text": [
            "Model: \"sequential_1\"\n",
            "_________________________________________________________________\n",
            " Layer (type)                Output Shape              Param #   \n",
            "=================================================================\n",
            " dense_3 (Dense)             (None, 256)               2560      \n",
            "                                                                 \n",
            " dense_4 (Dense)             (None, 128)               32896     \n",
            "                                                                 \n",
            " dense_5 (Dense)             (None, 64)                8256      \n",
            "                                                                 \n",
            " dense_6 (Dense)             (None, 9)                 585       \n",
            "                                                                 \n",
            "=================================================================\n",
            "Total params: 44,297\n",
            "Trainable params: 44,297\n",
            "Non-trainable params: 0\n",
            "_________________________________________________________________\n"
          ]
        }
      ]
    },
    {
      "cell_type": "code",
      "source": [
        "# Compile and Train Model\n",
        "opt = keras.optimizers.Adam(learning_rate=0.001)\n",
        "model.compile(optimizer=opt, loss='mse', metrics=['accuracy'])\n",
        "\n",
        "model.fit(train_data, train_data, epochs=30)"
      ],
      "metadata": {
        "colab": {
          "base_uri": "https://localhost:8080/"
        },
        "id": "4i_HTFJAm3mA",
        "outputId": "c3a3642a-bddb-4583-ca6e-eeb0385cbb15"
      },
      "execution_count": 10,
      "outputs": [
        {
          "output_type": "stream",
          "name": "stdout",
          "text": [
            "Epoch 1/30\n",
            "568/568 [==============================] - 3s 4ms/step - loss: 0.0310 - accuracy: 0.9230\n",
            "Epoch 2/30\n",
            "568/568 [==============================] - 2s 4ms/step - loss: 0.0016 - accuracy: 0.9713\n",
            "Epoch 3/30\n",
            "568/568 [==============================] - 2s 3ms/step - loss: 0.0014 - accuracy: 0.9726\n",
            "Epoch 4/30\n",
            "568/568 [==============================] - 2s 3ms/step - loss: 0.0012 - accuracy: 0.9752\n",
            "Epoch 5/30\n",
            "568/568 [==============================] - 1s 2ms/step - loss: 8.9129e-04 - accuracy: 0.9783\n",
            "Epoch 6/30\n",
            "568/568 [==============================] - 2s 3ms/step - loss: 8.6979e-04 - accuracy: 0.9785\n",
            "Epoch 7/30\n",
            "568/568 [==============================] - 2s 3ms/step - loss: 0.0012 - accuracy: 0.9771\n",
            "Epoch 8/30\n",
            "568/568 [==============================] - 3s 6ms/step - loss: 0.0011 - accuracy: 0.9770\n",
            "Epoch 9/30\n",
            "568/568 [==============================] - 3s 5ms/step - loss: 6.8046e-04 - accuracy: 0.9820\n",
            "Epoch 10/30\n",
            "568/568 [==============================] - 2s 3ms/step - loss: 8.4009e-04 - accuracy: 0.9816\n",
            "Epoch 11/30\n",
            "568/568 [==============================] - 2s 3ms/step - loss: 8.7501e-04 - accuracy: 0.9814\n",
            "Epoch 12/30\n",
            "568/568 [==============================] - 2s 3ms/step - loss: 7.5818e-04 - accuracy: 0.9812\n",
            "Epoch 13/30\n",
            "568/568 [==============================] - 2s 3ms/step - loss: 0.0012 - accuracy: 0.9775\n",
            "Epoch 14/30\n",
            "568/568 [==============================] - 2s 3ms/step - loss: 0.0013 - accuracy: 0.9787\n",
            "Epoch 15/30\n",
            "568/568 [==============================] - 1s 2ms/step - loss: 5.5990e-04 - accuracy: 0.9838\n",
            "Epoch 16/30\n",
            "568/568 [==============================] - 3s 5ms/step - loss: 4.7909e-04 - accuracy: 0.9846\n",
            "Epoch 17/30\n",
            "568/568 [==============================] - 2s 4ms/step - loss: 8.8578e-04 - accuracy: 0.9789\n",
            "Epoch 18/30\n",
            "568/568 [==============================] - 1s 2ms/step - loss: 0.0011 - accuracy: 0.9793\n",
            "Epoch 19/30\n",
            "568/568 [==============================] - 1s 3ms/step - loss: 6.0969e-04 - accuracy: 0.9824\n",
            "Epoch 20/30\n",
            "568/568 [==============================] - 2s 3ms/step - loss: 4.3879e-04 - accuracy: 0.9853\n",
            "Epoch 21/30\n",
            "568/568 [==============================] - 2s 3ms/step - loss: 9.1079e-04 - accuracy: 0.9803\n",
            "Epoch 22/30\n",
            "568/568 [==============================] - 2s 3ms/step - loss: 5.3901e-04 - accuracy: 0.9837\n",
            "Epoch 23/30\n",
            "568/568 [==============================] - 3s 5ms/step - loss: 5.6060e-04 - accuracy: 0.9822\n",
            "Epoch 24/30\n",
            "568/568 [==============================] - 3s 5ms/step - loss: 8.2989e-04 - accuracy: 0.9810\n",
            "Epoch 25/30\n",
            "568/568 [==============================] - 2s 3ms/step - loss: 4.6515e-04 - accuracy: 0.9857\n",
            "Epoch 26/30\n",
            "568/568 [==============================] - 2s 3ms/step - loss: 5.0345e-04 - accuracy: 0.9845\n",
            "Epoch 27/30\n",
            "568/568 [==============================] - 2s 3ms/step - loss: 7.0169e-04 - accuracy: 0.9813\n",
            "Epoch 28/30\n",
            "568/568 [==============================] - 2s 3ms/step - loss: 7.9631e-04 - accuracy: 0.9820\n",
            "Epoch 29/30\n",
            "568/568 [==============================] - 2s 3ms/step - loss: 3.7569e-04 - accuracy: 0.9864\n",
            "Epoch 30/30\n",
            "568/568 [==============================] - 2s 4ms/step - loss: 4.4148e-04 - accuracy: 0.9861\n"
          ]
        },
        {
          "output_type": "execute_result",
          "data": {
            "text/plain": [
              "<keras.callbacks.History at 0x7f0f81f3b010>"
            ]
          },
          "metadata": {},
          "execution_count": 10
        }
      ]
    },
    {
      "cell_type": "code",
      "source": [
        "# Generate Recommendations\n",
        "num_recommendations = 10\n",
        "\n",
        "# Get the latent representation of the input data\n",
        "latent_features = model.predict(train_data)\n",
        "\n",
        "# Calculate cosine similarity between each pair of latent features\n",
        "similarity_matrix = np.dot(latent_features, latent_features.T)\n",
        "norms = np.linalg.norm(latent_features, axis=1, keepdims=True)\n",
        "similarity_matrix /= np.dot(norms, norms.T)"
      ],
      "metadata": {
        "colab": {
          "base_uri": "https://localhost:8080/"
        },
        "id": "BQOlQnwRm3qF",
        "outputId": "d46ac780-a9b6-4ead-d6f6-d4483a1bd8e5"
      },
      "execution_count": 11,
      "outputs": [
        {
          "output_type": "stream",
          "name": "stdout",
          "text": [
            "568/568 [==============================] - 3s 5ms/step\n"
          ]
        }
      ]
    },
    {
      "cell_type": "code",
      "source": [
        "similarity_matrix"
      ],
      "metadata": {
        "colab": {
          "base_uri": "https://localhost:8080/"
        },
        "id": "y_BTbWjZm3ro",
        "outputId": "c2091fc7-9071-46e8-c93b-313d95f8a596"
      },
      "execution_count": 12,
      "outputs": [
        {
          "output_type": "execute_result",
          "data": {
            "text/plain": [
              "array([[ 0.9999999 , -0.25630778,  0.3018314 , ..., -0.5978832 ,\n",
              "        -0.64850926, -0.02889896],\n",
              "       [-0.25630778,  1.0000002 ,  0.31288385, ..., -0.19813134,\n",
              "         0.5170585 , -0.6131357 ],\n",
              "       [ 0.3018314 ,  0.31288385,  1.0000001 , ..., -0.6825695 ,\n",
              "         0.29529133, -0.8054305 ],\n",
              "       ...,\n",
              "       [-0.5978832 , -0.19813134, -0.6825695 , ...,  1.        ,\n",
              "        -0.04505737,  0.6737233 ],\n",
              "       [-0.64850926,  0.5170585 ,  0.29529133, ..., -0.04505737,\n",
              "         0.99999994, -0.6081946 ],\n",
              "       [-0.02889896, -0.6131357 , -0.8054305 , ...,  0.6737233 ,\n",
              "        -0.6081946 ,  0.9999999 ]], dtype=float32)"
            ]
          },
          "metadata": {},
          "execution_count": 12
        }
      ]
    },
    {
      "cell_type": "code",
      "source": [
        "# Generate recommendations for each item\n",
        "\n",
        "data.reset_index(drop=True, inplace=True)\n",
        "recommendations = {}\n",
        "for i in range(len(data)):\n",
        "    similar_indices = similarity_matrix[i].argsort()[:-1]  # Remove -1 from the indexing\n",
        "    similar_items = [(similarity_matrix[i][j], j) for j in similar_indices]\n",
        "    recommendations[i] = similar_items[:num_recommendations]  # Adjust indexing to include num_recommendations\n",
        "\n",
        "# Exclude the item itself from recommendations\n",
        "for key, value in recommendations.items():\n",
        "    recommendations[key] = value[1:]"
      ],
      "metadata": {
        "colab": {
          "base_uri": "https://localhost:8080/",
          "height": 281
        },
        "id": "lNgwECJVoOwH",
        "outputId": "430fca64-f9ab-421b-91cc-7552cd899504"
      },
      "execution_count": 13,
      "outputs": [
        {
          "output_type": "error",
          "ename": "IndexError",
          "evalue": "ignored",
          "traceback": [
            "\u001b[0;31m---------------------------------------------------------------------------\u001b[0m",
            "\u001b[0;31mIndexError\u001b[0m                                Traceback (most recent call last)",
            "\u001b[0;32m<ipython-input-13-a8d87ed2b983>\u001b[0m in \u001b[0;36m<cell line: 5>\u001b[0;34m()\u001b[0m\n\u001b[1;32m      4\u001b[0m \u001b[0mrecommendations\u001b[0m \u001b[0;34m=\u001b[0m \u001b[0;34m{\u001b[0m\u001b[0;34m}\u001b[0m\u001b[0;34m\u001b[0m\u001b[0;34m\u001b[0m\u001b[0m\n\u001b[1;32m      5\u001b[0m \u001b[0;32mfor\u001b[0m \u001b[0mi\u001b[0m \u001b[0;32min\u001b[0m \u001b[0mrange\u001b[0m\u001b[0;34m(\u001b[0m\u001b[0mlen\u001b[0m\u001b[0;34m(\u001b[0m\u001b[0mdata\u001b[0m\u001b[0;34m)\u001b[0m\u001b[0;34m)\u001b[0m\u001b[0;34m:\u001b[0m\u001b[0;34m\u001b[0m\u001b[0;34m\u001b[0m\u001b[0m\n\u001b[0;32m----> 6\u001b[0;31m     \u001b[0msimilar_indices\u001b[0m \u001b[0;34m=\u001b[0m \u001b[0msimilarity_matrix\u001b[0m\u001b[0;34m[\u001b[0m\u001b[0mi\u001b[0m\u001b[0;34m]\u001b[0m\u001b[0;34m.\u001b[0m\u001b[0margsort\u001b[0m\u001b[0;34m(\u001b[0m\u001b[0;34m)\u001b[0m\u001b[0;34m[\u001b[0m\u001b[0;34m:\u001b[0m\u001b[0;34m-\u001b[0m\u001b[0;36m1\u001b[0m\u001b[0;34m]\u001b[0m  \u001b[0;31m# Remove -1 from the indexing\u001b[0m\u001b[0;34m\u001b[0m\u001b[0;34m\u001b[0m\u001b[0m\n\u001b[0m\u001b[1;32m      7\u001b[0m     \u001b[0msimilar_items\u001b[0m \u001b[0;34m=\u001b[0m \u001b[0;34m[\u001b[0m\u001b[0;34m(\u001b[0m\u001b[0msimilarity_matrix\u001b[0m\u001b[0;34m[\u001b[0m\u001b[0mi\u001b[0m\u001b[0;34m]\u001b[0m\u001b[0;34m[\u001b[0m\u001b[0mj\u001b[0m\u001b[0;34m]\u001b[0m\u001b[0;34m,\u001b[0m \u001b[0mj\u001b[0m\u001b[0;34m)\u001b[0m \u001b[0;32mfor\u001b[0m \u001b[0mj\u001b[0m \u001b[0;32min\u001b[0m \u001b[0msimilar_indices\u001b[0m\u001b[0;34m]\u001b[0m\u001b[0;34m\u001b[0m\u001b[0;34m\u001b[0m\u001b[0m\n\u001b[1;32m      8\u001b[0m     \u001b[0mrecommendations\u001b[0m\u001b[0;34m[\u001b[0m\u001b[0mi\u001b[0m\u001b[0;34m]\u001b[0m \u001b[0;34m=\u001b[0m \u001b[0msimilar_items\u001b[0m\u001b[0;34m[\u001b[0m\u001b[0;34m:\u001b[0m\u001b[0mnum_recommendations\u001b[0m\u001b[0;34m]\u001b[0m  \u001b[0;31m# Adjust indexing to include num_recommendations\u001b[0m\u001b[0;34m\u001b[0m\u001b[0;34m\u001b[0m\u001b[0m\n",
            "\u001b[0;31mIndexError\u001b[0m: index 18173 is out of bounds for axis 0 with size 18173"
          ]
        }
      ]
    },
    {
      "cell_type": "code",
      "source": [
        "# Print recommendations for a sample item\n",
        "sample_item_index = 0\n",
        "sample_item_recommendations = recommendations[sample_item_index]\n",
        "print(\"Recommendations for Item:\", sample_item_index)\n",
        "for similarity, item_index in sample_item_recommendations:\n",
        "    print(\"Similarity:\", similarity)\n",
        "    print(\"Item:\", item_index)\n",
        "    print(\"Name:\", df.iloc[item_index][\"Name\"])\n",
        "    print(\"Calories:\", df.iloc[item_index][\"Calories\"])\n",
        "    print()"
      ],
      "metadata": {
        "id": "HCjse3HMoQyn"
      },
      "execution_count": null,
      "outputs": []
    },
    {
      "cell_type": "code",
      "source": [
        "# Generate user input\n",
        "height = 170  # user's height in cm\n",
        "weight = 70  # user's weight in kg\n",
        "max_calories = 2000  # user's maximum daily calorie intake\n",
        "\n",
        "#user_input = pd.DataFrame({'Height': [height], 'Weight': [weight], 'maxCalories': [max_calories]})\n",
        "user_input = [[height,weight,max_calories]]\n",
        "\n",
        "# Preprocess user input\n",
        "user_input = scaler.transform(user_input)\n",
        "\n",
        "# Make predictions for user input\n",
        "predictions = model.predict(user_input)\n",
        "\n",
        "# Get the top 5 recommended items for each meal\n",
        "top_recommendations = {}\n",
        "for meal in ['Breakfast', 'Lunch', 'Dinner']:\n",
        "    # Filter the dataset based on meal type\n",
        "    meal_data = data[data['Meal'] == meal]\n",
        "\n",
        "    # Calculate the similarity scores between user input and meal items\n",
        "    similarity_scores = cosine_similarity(user_input, meal_data[feature_columns])\n",
        "\n",
        "    # Get the indices of top 5 recommended items\n",
        "    top_indices = similarity_scores.argsort()[0][-5:][::-1]\n",
        "\n",
        "    # Get the names of the recommended items\n",
        "    recommendations = meal_data.iloc[top_indices]['Name'].tolist()\n",
        "\n",
        "    # Store the recommendations for the meal\n",
        "    top_recommendations[meal] = recommendations\n",
        "\n",
        "# Print the recommendations\n",
        "for meal, recommendations in top_recommendations.items():\n",
        "    print(f\"Top 5 Recommendations for {meal}:\")\n",
        "    for i, recommendation in enumerate(recommendations):\n",
        "        print(f\"{i+1}. {recommendation}\")\n",
        "    print()"
      ],
      "metadata": {
        "id": "HiDHd8yCoYmZ"
      },
      "execution_count": null,
      "outputs": []
    },
    {
      "cell_type": "code",
      "source": [],
      "metadata": {
        "id": "Z_DaWJGooYp-"
      },
      "execution_count": null,
      "outputs": []
    }
  ]
}