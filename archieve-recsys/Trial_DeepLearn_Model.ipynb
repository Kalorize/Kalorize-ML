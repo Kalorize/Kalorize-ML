{
  "cells": [
    {
      "cell_type": "code",
      "execution_count": 2,
      "metadata": {
        "id": "Dl4fugioIOFn"
      },
      "outputs": [],
      "source": [
        "import pandas as pd\n",
        "import numpy as np\n",
        "import os\n",
        "import tensorflow as tf\n",
        "\n",
        "import seaborn as sns\n",
        "from sklearn import preprocessing\n",
        "from sklearn.preprocessing import MinMaxScaler\n",
        "from sklearn.neighbors import NearestNeighbors"
      ]
    },
    {
      "cell_type": "code",
      "execution_count": 3,
      "metadata": {
        "id": "zh6V1TM7a9K2"
      },
      "outputs": [],
      "source": [
        "df = pd.read_csv(\"/content/drive/MyDrive/Capstone/dataset.csv\")"
      ]
    },
    {
      "cell_type": "code",
      "execution_count": 4,
      "metadata": {
        "id": "KIemj_t8SDD9",
        "colab": {
          "base_uri": "https://localhost:8080/"
        },
        "outputId": "a38e3c85-a4e9-4c4f-e9f6-c62da0369191"
      },
      "outputs": [
        {
          "output_type": "execute_result",
          "data": {
            "text/plain": [
              "RecipeId                 0\n",
              "Name                     0\n",
              "CookTime                 0\n",
              "PrepTime                 0\n",
              "TotalTime                0\n",
              "RecipeIngredientParts    0\n",
              "Calories                 0\n",
              "FatContent               0\n",
              "SaturatedFatContent      0\n",
              "CholesterolContent       0\n",
              "SodiumContent            0\n",
              "CarbohydrateContent      0\n",
              "FiberContent             0\n",
              "SugarContent             0\n",
              "ProteinContent           0\n",
              "RecipeInstructions       0\n",
              "ImageUrl                 0\n",
              "dtype: int64"
            ]
          },
          "metadata": {},
          "execution_count": 4
        }
      ],
      "source": [
        "df.isna().sum()"
      ]
    },
    {
      "cell_type": "code",
      "execution_count": 5,
      "metadata": {
        "id": "iFWOEYiIbAJJ"
      },
      "outputs": [],
      "source": [
        "# Fill missing values\n",
        "#df['column_name'].fillna(value=df['column_name'].mean(), inplace=True)\n",
        "\n",
        "# Remove duplicates\n",
        "df.drop_duplicates(inplace=True)\n",
        "\n",
        "# Remove unnecessary columns\n",
        "#df.drop(['AuthorName', 'CookTime', 'PrepTime', 'TotalTime', 'DatePublished', 'Description', 'Images', 'RecipeCategory', 'RecipeServings', 'RecipeYield', 'RecipeInstructions'], axis=1, inplace=True)\n",
        "\n",
        "# Rename columns\n",
        "#df.rename(columns={'old_column_name': 'new_column_name'}, inplace=True)\n",
        "\n",
        "# Convert data types\n",
        "#df['column_name'] = df['column_name'].astype('int')\n",
        "\n",
        "# Remove outliers\n",
        "#df = df[(df['column_name'] > df['column_name'].quantile(0.05)) & (df['column_name'] < df['column_name'].quantile(0.95))]\n",
        "\n",
        "# Save cleaned data\n",
        "#df.to_csv('cleaned_data.csv', index=False)\n",
        "\n",
        "#Normalization\n",
        "scaler = MinMaxScaler()\n",
        "df[['Calories', 'ProteinContent', 'FatContent', 'CarbohydrateContent', 'FiberContent', 'SugarContent', 'SaturatedFatContent', 'SodiumContent', 'CholesterolContent']] = scaler.fit_transform(df[['Calories', 'ProteinContent', 'FatContent', 'CarbohydrateContent', 'FiberContent', 'SugarContent', 'SaturatedFatContent', 'SodiumContent', 'CholesterolContent']])"
      ]
    },
    {
      "cell_type": "code",
      "execution_count": 7,
      "metadata": {
        "id": "9Yo4Ib11SfX3",
        "colab": {
          "base_uri": "https://localhost:8080/"
        },
        "outputId": "b9b9eca6-ea04-4f87-91c3-2225a929c0c3"
      },
      "outputs": [
        {
          "output_type": "stream",
          "name": "stdout",
          "text": [
            "<class 'pandas.core.frame.DataFrame'>\n",
            "Int64Index: 22717 entries, 0 to 22716\n",
            "Data columns (total 17 columns):\n",
            " #   Column                 Non-Null Count  Dtype  \n",
            "---  ------                 --------------  -----  \n",
            " 0   RecipeId               22717 non-null  int64  \n",
            " 1   Name                   22717 non-null  object \n",
            " 2   CookTime               22717 non-null  object \n",
            " 3   PrepTime               22717 non-null  object \n",
            " 4   TotalTime              22717 non-null  object \n",
            " 5   RecipeIngredientParts  22717 non-null  object \n",
            " 6   Calories               22717 non-null  float64\n",
            " 7   FatContent             22717 non-null  float64\n",
            " 8   SaturatedFatContent    22717 non-null  float64\n",
            " 9   CholesterolContent     22717 non-null  float64\n",
            " 10  SodiumContent          22717 non-null  float64\n",
            " 11  CarbohydrateContent    22717 non-null  float64\n",
            " 12  FiberContent           22717 non-null  float64\n",
            " 13  SugarContent           22717 non-null  float64\n",
            " 14  ProteinContent         22717 non-null  float64\n",
            " 15  RecipeInstructions     22717 non-null  object \n",
            " 16  ImageUrl               22717 non-null  object \n",
            "dtypes: float64(9), int64(1), object(7)\n",
            "memory usage: 3.1+ MB\n"
          ]
        }
      ],
      "source": [
        "df.info()"
      ]
    },
    {
      "cell_type": "code",
      "execution_count": 8,
      "metadata": {
        "id": "dye_QUTQcTas",
        "colab": {
          "base_uri": "https://localhost:8080/",
          "height": 461
        },
        "outputId": "5b687b41-c49b-44bc-b9fc-ad37813c6a0a"
      },
      "outputs": [
        {
          "output_type": "execute_result",
          "data": {
            "text/plain": [
              "   RecipeId                            Name CookTime PrepTime TotalTime  \\\n",
              "0        41  Carina's Tofu-Vegetable Kebabs    PT20M    PT24H  PT24H20M   \n",
              "1        64               Almond Pound Cake     PT1H    PT15M   PT1H15M   \n",
              "2        94           Blueberry Buttertarts    PT25M    PT15M     PT40M   \n",
              "3       131            Buttermilk-Oat Bread    PT20M    PT30M     PT50M   \n",
              "4       168                  Anzac Biscuits    PT15M    PT10M     PT25M   \n",
              "\n",
              "                               RecipeIngredientParts  Calories  FatContent  \\\n",
              "0  c(\"extra firm tofu\", \"eggplant\", \"zucchini\", \"...  0.330987    0.267261   \n",
              "1  c(\"butter\", \"almond paste\", \"sugar\", \"eggs\", \"...  0.252207    0.199332   \n",
              "2  c(\"egg\", \"corn syrup\", \"lemon juice\", \"vanilla...  0.208619    0.204900   \n",
              "3  c(\"buttermilk\", \"honey\", \"butter\", \"margarine\"...  0.042415    0.007795   \n",
              "4  c(\"rolled oats\", \"plain flour\", \"sugar\", \"gold...  0.123109    0.115813   \n",
              "\n",
              "   SaturatedFatContent  CholesterolContent  SodiumContent  \\\n",
              "0             0.294574            0.000000       0.680403   \n",
              "1             0.697674            0.397128       0.069586   \n",
              "2             0.364341            0.058784       0.054874   \n",
              "3             0.023256            0.004676       0.038591   \n",
              "4             0.527132            0.074482       0.062601   \n",
              "\n",
              "   CarbohydrateContent  FiberContent  SugarContent  ProteinContent  \\\n",
              "0             0.202268      0.458886      0.804511        0.298675   \n",
              "1             0.176434      0.034483      0.726817        0.070336   \n",
              "2             0.126654      0.031830      0.288221        0.042813   \n",
              "3             0.041903      0.015915      0.042607        0.021407   \n",
              "4             0.078765      0.039788      0.273183        0.022426   \n",
              "\n",
              "                                  RecipeInstructions  \\\n",
              "0  c(\"Drain the tofu, carefully squeezing out exc...   \n",
              "1  c(\"Preheat oven to 350 degrees Fahrenheit.\", \"...   \n",
              "2  c(\"Preheat oven to 375F.\", \"Leave shells in fo...   \n",
              "3  c(\"For toasted rolled oats, place oats in a sh...   \n",
              "4  c(\"Mix oats, flour, sugar and coconut together...   \n",
              "\n",
              "                                            ImageUrl  \n",
              "0  https://encrypted-tbn0.gstatic.com/images?q=tb...  \n",
              "1  https://encrypted-tbn0.gstatic.com/images?q=tb...  \n",
              "2  https://encrypted-tbn0.gstatic.com/images?q=tb...  \n",
              "3  https://encrypted-tbn0.gstatic.com/images?q=tb...  \n",
              "4  https://encrypted-tbn0.gstatic.com/images?q=tb...  "
            ],
            "text/html": [
              "\n",
              "  <div id=\"df-1a9e50b0-1db7-4c7f-9055-0a40a7df3f07\">\n",
              "    <div class=\"colab-df-container\">\n",
              "      <div>\n",
              "<style scoped>\n",
              "    .dataframe tbody tr th:only-of-type {\n",
              "        vertical-align: middle;\n",
              "    }\n",
              "\n",
              "    .dataframe tbody tr th {\n",
              "        vertical-align: top;\n",
              "    }\n",
              "\n",
              "    .dataframe thead th {\n",
              "        text-align: right;\n",
              "    }\n",
              "</style>\n",
              "<table border=\"1\" class=\"dataframe\">\n",
              "  <thead>\n",
              "    <tr style=\"text-align: right;\">\n",
              "      <th></th>\n",
              "      <th>RecipeId</th>\n",
              "      <th>Name</th>\n",
              "      <th>CookTime</th>\n",
              "      <th>PrepTime</th>\n",
              "      <th>TotalTime</th>\n",
              "      <th>RecipeIngredientParts</th>\n",
              "      <th>Calories</th>\n",
              "      <th>FatContent</th>\n",
              "      <th>SaturatedFatContent</th>\n",
              "      <th>CholesterolContent</th>\n",
              "      <th>SodiumContent</th>\n",
              "      <th>CarbohydrateContent</th>\n",
              "      <th>FiberContent</th>\n",
              "      <th>SugarContent</th>\n",
              "      <th>ProteinContent</th>\n",
              "      <th>RecipeInstructions</th>\n",
              "      <th>ImageUrl</th>\n",
              "    </tr>\n",
              "  </thead>\n",
              "  <tbody>\n",
              "    <tr>\n",
              "      <th>0</th>\n",
              "      <td>41</td>\n",
              "      <td>Carina's Tofu-Vegetable Kebabs</td>\n",
              "      <td>PT20M</td>\n",
              "      <td>PT24H</td>\n",
              "      <td>PT24H20M</td>\n",
              "      <td>c(\"extra firm tofu\", \"eggplant\", \"zucchini\", \"...</td>\n",
              "      <td>0.330987</td>\n",
              "      <td>0.267261</td>\n",
              "      <td>0.294574</td>\n",
              "      <td>0.000000</td>\n",
              "      <td>0.680403</td>\n",
              "      <td>0.202268</td>\n",
              "      <td>0.458886</td>\n",
              "      <td>0.804511</td>\n",
              "      <td>0.298675</td>\n",
              "      <td>c(\"Drain the tofu, carefully squeezing out exc...</td>\n",
              "      <td>https://encrypted-tbn0.gstatic.com/images?q=tb...</td>\n",
              "    </tr>\n",
              "    <tr>\n",
              "      <th>1</th>\n",
              "      <td>64</td>\n",
              "      <td>Almond Pound Cake</td>\n",
              "      <td>PT1H</td>\n",
              "      <td>PT15M</td>\n",
              "      <td>PT1H15M</td>\n",
              "      <td>c(\"butter\", \"almond paste\", \"sugar\", \"eggs\", \"...</td>\n",
              "      <td>0.252207</td>\n",
              "      <td>0.199332</td>\n",
              "      <td>0.697674</td>\n",
              "      <td>0.397128</td>\n",
              "      <td>0.069586</td>\n",
              "      <td>0.176434</td>\n",
              "      <td>0.034483</td>\n",
              "      <td>0.726817</td>\n",
              "      <td>0.070336</td>\n",
              "      <td>c(\"Preheat oven to 350 degrees Fahrenheit.\", \"...</td>\n",
              "      <td>https://encrypted-tbn0.gstatic.com/images?q=tb...</td>\n",
              "    </tr>\n",
              "    <tr>\n",
              "      <th>2</th>\n",
              "      <td>94</td>\n",
              "      <td>Blueberry Buttertarts</td>\n",
              "      <td>PT25M</td>\n",
              "      <td>PT15M</td>\n",
              "      <td>PT40M</td>\n",
              "      <td>c(\"egg\", \"corn syrup\", \"lemon juice\", \"vanilla...</td>\n",
              "      <td>0.208619</td>\n",
              "      <td>0.204900</td>\n",
              "      <td>0.364341</td>\n",
              "      <td>0.058784</td>\n",
              "      <td>0.054874</td>\n",
              "      <td>0.126654</td>\n",
              "      <td>0.031830</td>\n",
              "      <td>0.288221</td>\n",
              "      <td>0.042813</td>\n",
              "      <td>c(\"Preheat oven to 375F.\", \"Leave shells in fo...</td>\n",
              "      <td>https://encrypted-tbn0.gstatic.com/images?q=tb...</td>\n",
              "    </tr>\n",
              "    <tr>\n",
              "      <th>3</th>\n",
              "      <td>131</td>\n",
              "      <td>Buttermilk-Oat Bread</td>\n",
              "      <td>PT20M</td>\n",
              "      <td>PT30M</td>\n",
              "      <td>PT50M</td>\n",
              "      <td>c(\"buttermilk\", \"honey\", \"butter\", \"margarine\"...</td>\n",
              "      <td>0.042415</td>\n",
              "      <td>0.007795</td>\n",
              "      <td>0.023256</td>\n",
              "      <td>0.004676</td>\n",
              "      <td>0.038591</td>\n",
              "      <td>0.041903</td>\n",
              "      <td>0.015915</td>\n",
              "      <td>0.042607</td>\n",
              "      <td>0.021407</td>\n",
              "      <td>c(\"For toasted rolled oats, place oats in a sh...</td>\n",
              "      <td>https://encrypted-tbn0.gstatic.com/images?q=tb...</td>\n",
              "    </tr>\n",
              "    <tr>\n",
              "      <th>4</th>\n",
              "      <td>168</td>\n",
              "      <td>Anzac Biscuits</td>\n",
              "      <td>PT15M</td>\n",
              "      <td>PT10M</td>\n",
              "      <td>PT25M</td>\n",
              "      <td>c(\"rolled oats\", \"plain flour\", \"sugar\", \"gold...</td>\n",
              "      <td>0.123109</td>\n",
              "      <td>0.115813</td>\n",
              "      <td>0.527132</td>\n",
              "      <td>0.074482</td>\n",
              "      <td>0.062601</td>\n",
              "      <td>0.078765</td>\n",
              "      <td>0.039788</td>\n",
              "      <td>0.273183</td>\n",
              "      <td>0.022426</td>\n",
              "      <td>c(\"Mix oats, flour, sugar and coconut together...</td>\n",
              "      <td>https://encrypted-tbn0.gstatic.com/images?q=tb...</td>\n",
              "    </tr>\n",
              "  </tbody>\n",
              "</table>\n",
              "</div>\n",
              "      <button class=\"colab-df-convert\" onclick=\"convertToInteractive('df-1a9e50b0-1db7-4c7f-9055-0a40a7df3f07')\"\n",
              "              title=\"Convert this dataframe to an interactive table.\"\n",
              "              style=\"display:none;\">\n",
              "        \n",
              "  <svg xmlns=\"http://www.w3.org/2000/svg\" height=\"24px\"viewBox=\"0 0 24 24\"\n",
              "       width=\"24px\">\n",
              "    <path d=\"M0 0h24v24H0V0z\" fill=\"none\"/>\n",
              "    <path d=\"M18.56 5.44l.94 2.06.94-2.06 2.06-.94-2.06-.94-.94-2.06-.94 2.06-2.06.94zm-11 1L8.5 8.5l.94-2.06 2.06-.94-2.06-.94L8.5 2.5l-.94 2.06-2.06.94zm10 10l.94 2.06.94-2.06 2.06-.94-2.06-.94-.94-2.06-.94 2.06-2.06.94z\"/><path d=\"M17.41 7.96l-1.37-1.37c-.4-.4-.92-.59-1.43-.59-.52 0-1.04.2-1.43.59L10.3 9.45l-7.72 7.72c-.78.78-.78 2.05 0 2.83L4 21.41c.39.39.9.59 1.41.59.51 0 1.02-.2 1.41-.59l7.78-7.78 2.81-2.81c.8-.78.8-2.07 0-2.86zM5.41 20L4 18.59l7.72-7.72 1.47 1.35L5.41 20z\"/>\n",
              "  </svg>\n",
              "      </button>\n",
              "      \n",
              "  <style>\n",
              "    .colab-df-container {\n",
              "      display:flex;\n",
              "      flex-wrap:wrap;\n",
              "      gap: 12px;\n",
              "    }\n",
              "\n",
              "    .colab-df-convert {\n",
              "      background-color: #E8F0FE;\n",
              "      border: none;\n",
              "      border-radius: 50%;\n",
              "      cursor: pointer;\n",
              "      display: none;\n",
              "      fill: #1967D2;\n",
              "      height: 32px;\n",
              "      padding: 0 0 0 0;\n",
              "      width: 32px;\n",
              "    }\n",
              "\n",
              "    .colab-df-convert:hover {\n",
              "      background-color: #E2EBFA;\n",
              "      box-shadow: 0px 1px 2px rgba(60, 64, 67, 0.3), 0px 1px 3px 1px rgba(60, 64, 67, 0.15);\n",
              "      fill: #174EA6;\n",
              "    }\n",
              "\n",
              "    [theme=dark] .colab-df-convert {\n",
              "      background-color: #3B4455;\n",
              "      fill: #D2E3FC;\n",
              "    }\n",
              "\n",
              "    [theme=dark] .colab-df-convert:hover {\n",
              "      background-color: #434B5C;\n",
              "      box-shadow: 0px 1px 3px 1px rgba(0, 0, 0, 0.15);\n",
              "      filter: drop-shadow(0px 1px 2px rgba(0, 0, 0, 0.3));\n",
              "      fill: #FFFFFF;\n",
              "    }\n",
              "  </style>\n",
              "\n",
              "      <script>\n",
              "        const buttonEl =\n",
              "          document.querySelector('#df-1a9e50b0-1db7-4c7f-9055-0a40a7df3f07 button.colab-df-convert');\n",
              "        buttonEl.style.display =\n",
              "          google.colab.kernel.accessAllowed ? 'block' : 'none';\n",
              "\n",
              "        async function convertToInteractive(key) {\n",
              "          const element = document.querySelector('#df-1a9e50b0-1db7-4c7f-9055-0a40a7df3f07');\n",
              "          const dataTable =\n",
              "            await google.colab.kernel.invokeFunction('convertToInteractive',\n",
              "                                                     [key], {});\n",
              "          if (!dataTable) return;\n",
              "\n",
              "          const docLinkHtml = 'Like what you see? Visit the ' +\n",
              "            '<a target=\"_blank\" href=https://colab.research.google.com/notebooks/data_table.ipynb>data table notebook</a>'\n",
              "            + ' to learn more about interactive tables.';\n",
              "          element.innerHTML = '';\n",
              "          dataTable['output_type'] = 'display_data';\n",
              "          await google.colab.output.renderOutput(dataTable, element);\n",
              "          const docLink = document.createElement('div');\n",
              "          docLink.innerHTML = docLinkHtml;\n",
              "          element.appendChild(docLink);\n",
              "        }\n",
              "      </script>\n",
              "    </div>\n",
              "  </div>\n",
              "  "
            ]
          },
          "metadata": {},
          "execution_count": 8
        }
      ],
      "source": [
        "df.head(5)"
      ]
    },
    {
      "cell_type": "code",
      "execution_count": 10,
      "metadata": {
        "id": "wqAHZ3-hg7Jt"
      },
      "outputs": [],
      "source": [
        "# Mengambil fitur yang diperlukan\n",
        "features = ['Calories', 'FatContent', 'SaturatedFatContent', 'CholesterolContent','SodiumContent', 'CarbohydrateContent', 'FiberContent', 'SugarContent', 'ProteinContent']\n",
        "data = df[features]\n",
        "\n",
        "# Menormalkan data\n",
        "scaler = MinMaxScaler()\n",
        "data_scaled = scaler.fit_transform(data)"
      ]
    },
    {
      "cell_type": "code",
      "execution_count": 11,
      "metadata": {
        "id": "BE-LX9qFJ6w5",
        "colab": {
          "base_uri": "https://localhost:8080/"
        },
        "outputId": "67725ff1-8174-4a74-9027-1ca6615ef631"
      },
      "outputs": [
        {
          "output_type": "stream",
          "name": "stdout",
          "text": [
            "Epoch 1/30\n",
            "284/284 [==============================] - 5s 12ms/step - loss: 79467995136.0000 - accuracy: 0.0000e+00 - val_loss: 216827969536.0000 - val_accuracy: 0.0000e+00\n",
            "Epoch 2/30\n",
            "284/284 [==============================] - 3s 11ms/step - loss: 79467995136.0000 - accuracy: 0.0000e+00 - val_loss: 216827969536.0000 - val_accuracy: 0.0000e+00\n",
            "Epoch 3/30\n",
            "284/284 [==============================] - 5s 16ms/step - loss: 79467986944.0000 - accuracy: 0.0000e+00 - val_loss: 216827969536.0000 - val_accuracy: 0.0000e+00\n",
            "Epoch 4/30\n",
            "284/284 [==============================] - 4s 13ms/step - loss: 79468019712.0000 - accuracy: 0.0000e+00 - val_loss: 216827969536.0000 - val_accuracy: 0.0000e+00\n",
            "Epoch 5/30\n",
            "284/284 [==============================] - 5s 17ms/step - loss: 79467995136.0000 - accuracy: 0.0000e+00 - val_loss: 216827969536.0000 - val_accuracy: 0.0000e+00\n",
            "Epoch 6/30\n",
            "284/284 [==============================] - 4s 15ms/step - loss: 79467995136.0000 - accuracy: 0.0000e+00 - val_loss: 216827969536.0000 - val_accuracy: 0.0000e+00\n",
            "Epoch 7/30\n",
            "284/284 [==============================] - 4s 14ms/step - loss: 79467986944.0000 - accuracy: 0.0000e+00 - val_loss: 216827969536.0000 - val_accuracy: 0.0000e+00\n",
            "Epoch 8/30\n",
            "284/284 [==============================] - 3s 10ms/step - loss: 79467986944.0000 - accuracy: 0.0000e+00 - val_loss: 216827969536.0000 - val_accuracy: 0.0000e+00\n",
            "Epoch 9/30\n",
            "284/284 [==============================] - 3s 11ms/step - loss: 79467962368.0000 - accuracy: 0.0000e+00 - val_loss: 216827969536.0000 - val_accuracy: 0.0000e+00\n",
            "Epoch 10/30\n",
            "284/284 [==============================] - 3s 11ms/step - loss: 79468019712.0000 - accuracy: 0.0000e+00 - val_loss: 216827969536.0000 - val_accuracy: 0.0000e+00\n",
            "Epoch 11/30\n",
            "284/284 [==============================] - 5s 18ms/step - loss: 79467978752.0000 - accuracy: 0.0000e+00 - val_loss: 216827969536.0000 - val_accuracy: 0.0000e+00\n",
            "Epoch 12/30\n",
            "284/284 [==============================] - 3s 11ms/step - loss: 79467970560.0000 - accuracy: 0.0000e+00 - val_loss: 216827969536.0000 - val_accuracy: 0.0000e+00\n",
            "Epoch 13/30\n",
            "284/284 [==============================] - 3s 11ms/step - loss: 79467995136.0000 - accuracy: 0.0000e+00 - val_loss: 216827969536.0000 - val_accuracy: 0.0000e+00\n",
            "Epoch 14/30\n",
            "284/284 [==============================] - 3s 11ms/step - loss: 79467978752.0000 - accuracy: 0.0000e+00 - val_loss: 216827969536.0000 - val_accuracy: 0.0000e+00\n",
            "Epoch 15/30\n",
            "284/284 [==============================] - 5s 17ms/step - loss: 79467986944.0000 - accuracy: 0.0000e+00 - val_loss: 216827969536.0000 - val_accuracy: 0.0000e+00\n",
            "Epoch 16/30\n",
            "284/284 [==============================] - 3s 12ms/step - loss: 79468003328.0000 - accuracy: 0.0000e+00 - val_loss: 216827969536.0000 - val_accuracy: 0.0000e+00\n",
            "Epoch 17/30\n",
            "284/284 [==============================] - 3s 11ms/step - loss: 79468019712.0000 - accuracy: 0.0000e+00 - val_loss: 216827969536.0000 - val_accuracy: 0.0000e+00\n",
            "Epoch 18/30\n",
            "284/284 [==============================] - 3s 12ms/step - loss: 79468003328.0000 - accuracy: 0.0000e+00 - val_loss: 216827969536.0000 - val_accuracy: 0.0000e+00\n",
            "Epoch 19/30\n",
            "284/284 [==============================] - 4s 15ms/step - loss: 79467978752.0000 - accuracy: 0.0000e+00 - val_loss: 216827969536.0000 - val_accuracy: 0.0000e+00\n",
            "Epoch 20/30\n",
            "284/284 [==============================] - 4s 13ms/step - loss: 79467962368.0000 - accuracy: 0.0000e+00 - val_loss: 216827969536.0000 - val_accuracy: 0.0000e+00\n",
            "Epoch 21/30\n",
            "284/284 [==============================] - 3s 12ms/step - loss: 79467945984.0000 - accuracy: 0.0000e+00 - val_loss: 216827969536.0000 - val_accuracy: 0.0000e+00\n",
            "Epoch 22/30\n",
            "284/284 [==============================] - 3s 11ms/step - loss: 79467986944.0000 - accuracy: 0.0000e+00 - val_loss: 216827969536.0000 - val_accuracy: 0.0000e+00\n",
            "Epoch 23/30\n",
            "284/284 [==============================] - 4s 15ms/step - loss: 79468011520.0000 - accuracy: 0.0000e+00 - val_loss: 216827969536.0000 - val_accuracy: 0.0000e+00\n",
            "Epoch 24/30\n",
            "284/284 [==============================] - 4s 13ms/step - loss: 79467970560.0000 - accuracy: 0.0000e+00 - val_loss: 216827969536.0000 - val_accuracy: 0.0000e+00\n",
            "Epoch 25/30\n",
            "284/284 [==============================] - 3s 11ms/step - loss: 79467978752.0000 - accuracy: 0.0000e+00 - val_loss: 216827969536.0000 - val_accuracy: 0.0000e+00\n",
            "Epoch 26/30\n",
            "284/284 [==============================] - 3s 11ms/step - loss: 79467986944.0000 - accuracy: 0.0000e+00 - val_loss: 216827969536.0000 - val_accuracy: 0.0000e+00\n",
            "Epoch 27/30\n",
            "284/284 [==============================] - 5s 18ms/step - loss: 79467962368.0000 - accuracy: 0.0000e+00 - val_loss: 216827969536.0000 - val_accuracy: 0.0000e+00\n",
            "Epoch 28/30\n",
            "284/284 [==============================] - 3s 12ms/step - loss: 79468019712.0000 - accuracy: 0.0000e+00 - val_loss: 216827969536.0000 - val_accuracy: 0.0000e+00\n",
            "Epoch 29/30\n",
            "284/284 [==============================] - 3s 10ms/step - loss: 79467962368.0000 - accuracy: 0.0000e+00 - val_loss: 216827969536.0000 - val_accuracy: 0.0000e+00\n",
            "Epoch 30/30\n",
            "284/284 [==============================] - 3s 11ms/step - loss: 79467970560.0000 - accuracy: 0.0000e+00 - val_loss: 216827969536.0000 - val_accuracy: 0.0000e+00\n"
          ]
        },
        {
          "output_type": "execute_result",
          "data": {
            "text/plain": [
              "<keras.callbacks.History at 0x7f4470a2aa70>"
            ]
          },
          "metadata": {},
          "execution_count": 11
        }
      ],
      "source": [
        "# Define the input features and target variable\n",
        "X = df[['Calories', 'ProteinContent', 'FatContent', 'CarbohydrateContent', 'FiberContent', 'SugarContent', 'SaturatedFatContent', 'SodiumContent', 'CholesterolContent']]\n",
        "y = df[['RecipeId']]\n",
        "\n",
        "num_features = len(features)\n",
        "\n",
        "model = tf.keras.models.Sequential([\n",
        "    tf.keras.layers.Dense(512, input_shape=(X.shape[1],), activation='relu'),\n",
        "    tf.keras.layers.Dropout(0.2),\n",
        "    tf.keras.layers.Dense(256, activation='relu'),\n",
        "    tf.keras.layers.Dropout(0.2),\n",
        "    tf.keras.layers.Dense(128, activation='relu'),\n",
        "    tf.keras.layers.Dropout(0.2),\n",
        "    tf.keras.layers.Dense(64, activation='relu'),\n",
        "    tf.keras.layers.Dropout(0.3),\n",
        "    tf.keras.layers.Dense(32, activation='relu'),\n",
        "    tf.keras.layers.Dropout(0.3),\n",
        "    tf.keras.layers.Dense(16, activation='relu'),\n",
        "    tf.keras.layers.Dense(y.shape[1], activation='softmax')\n",
        "])\n",
        "\n",
        "# Compile the model\n",
        "optimizer = tf.keras.optimizers.Adam(learning_rate=0.0001)\n",
        "model.compile(loss='mse', optimizer=optimizer, metrics=['accuracy'])\n",
        "\n",
        "# Train the model\n",
        "model.fit(X, y, epochs=30, batch_size=64, validation_split=0.2)"
      ]
    },
    {
      "cell_type": "code",
      "execution_count": 12,
      "metadata": {
        "id": "788QJzn0KyS8",
        "colab": {
          "base_uri": "https://localhost:8080/"
        },
        "outputId": "7e8101d2-b98e-4d78-d17e-c66bc63151de"
      },
      "outputs": [
        {
          "name": "stdout",
          "output_type": "stream",
          "text": [
            "Enter the maximum number of calories: 1000\n",
            "Enter your height (in meters): 1.7\n",
            "Enter your weight (in kilograms): 70\n",
            "Enter your age: 25\n",
            "Your recommended daily calorie intake is: 637.5\n",
            "So, you need calories at each meal (breakfast, lunch, dinner): 212.5 in a day\n",
            "\n",
            "Here are some recommended food items for breakfast:\n",
            "Granola Crunch Mix\n",
            "Bread Machine Garlic and Herb Walnut Bread\n",
            "Quick French Bread\n",
            "Veggie Pasta Pie\n",
            "Toddler Chicken Hash\n",
            "\n",
            "Here are some recommended food items for lunch:\n",
            "Tilapia With a Touch of Lime\n",
            "Ruth's Peanut Butter Cookies\n",
            "Chicken Salad Panini\n",
            "Toffee Coated Peanuts\n",
            "Microwave Sweet Tea\n",
            "\n",
            "Here are some recommended food items for dinner:\n",
            "Cinnabon Roll Spiral Cookies!!!\n",
            "Traditional British Victorian Sandwich Sponge Cake\n",
            "Samosa\n",
            "Lemon Top Fairy Cakes\n",
            "Tzatziki\n",
            "Would you like to see 5 more recommended food items? (Y/N) n\n"
          ]
        }
      ],
      "source": [
        "# Get the user input\n",
        "max_calories = float(input(\"Enter the maximum number of calories: \"))\n",
        "height = float(input(\"Enter your height (in meters): \"))\n",
        "weight = float(input(\"Enter your weight (in kilograms): \"))\n",
        "age = int(input(\"Enter your age: \"))\n",
        "\n",
        "# Calculate the basal metabolic rate (BMR)\n",
        "bmr = 10 * weight + 6.25 * height * 100 - 5 * age\n",
        "\n",
        "# Calculate the recommended daily calorie intake\n",
        "if bmr <= 0:\n",
        "    print(\"Invalid input\")\n",
        "else:\n",
        "    daily_calories = np.abs(max_calories - bmr)\n",
        "    print(\"Your recommended daily calorie intake is:\", daily_calories)\n",
        "\n",
        "    # Calculate the recommended calories per meal\n",
        "    recommended_calories_per_meal = daily_calories / 3\n",
        "    print(\"So, you need calories at each meal (breakfast, lunch, dinner):\", recommended_calories_per_meal, \"in a day\")\n",
        "\n",
        "    # Filter the dataset based on the recommended daily calorie intake and maximum calories per meal\n",
        "    recommendations = df[(df['Calories'] <= daily_calories) & (df['Calories'] <= recommended_calories_per_meal)]\n",
        "\n",
        "    # Randomly select 5 food items for breakfast, lunch, and dinner\n",
        "    random_recommendations_breakfast = recommendations.sample(n=5)\n",
        "    random_recommendations_lunch = recommendations.sample(n=5)\n",
        "    random_recommendations_dinner = recommendations.sample(n=5)\n",
        "\n",
        "    # Print the recommendations for breakfast, lunch, and dinner\n",
        "    print(\"\\nHere are some recommended food items for breakfast:\")\n",
        "    for index, row in random_recommendations_breakfast.iterrows():\n",
        "        print(row['Name'])\n",
        "\n",
        "    print(\"\\nHere are some recommended food items for lunch:\")\n",
        "    for index, row in random_recommendations_lunch.iterrows():\n",
        "        print(row['Name'])\n",
        "\n",
        "    print(\"\\nHere are some recommended food items for dinner:\")\n",
        "    for index, row in random_recommendations_dinner.iterrows():\n",
        "        print(row['Name'])\n",
        "\n",
        "    # Allow the user to choose to display 5 more food items\n",
        "    more_recommendations = input(\"Would you like to see 5 more recommended food items? (Y/N) \")\n",
        "    while more_recommendations.upper() == \"Y\":\n",
        "        random_recommendations = recommendations.sample(n=5)\n",
        "        print(\"Here are 5 more recommended food items:\")\n",
        "        for index, row in random_recommendations.iterrows():\n",
        "            print(row['Name'])\n",
        "        more_recommendations = input(\"Would you like to see 5 more recommended food items? (Y/N) \")"
      ]
    },
    {
      "cell_type": "code",
      "execution_count": null,
      "metadata": {
        "id": "V4vOW9XENPXj"
      },
      "outputs": [],
      "source": [
        "df.loc[df['Name'] == 'Avocado and Chicken Melts']"
      ]
    },
    {
      "cell_type": "code",
      "execution_count": null,
      "metadata": {
        "id": "Zb2wdz1TJ7V2"
      },
      "outputs": [],
      "source": [
        "df.loc[df['Name'] == 'Quiche']"
      ]
    },
    {
      "cell_type": "code",
      "execution_count": null,
      "metadata": {
        "id": "2c1jkdL96lc6"
      },
      "outputs": [],
      "source": [
        "df.loc[df['Name'] == 'Poppy Seed Salmon Kebabs / Skewers']"
      ]
    },
    {
      "cell_type": "code",
      "execution_count": null,
      "metadata": {
        "id": "a9v-fEBV9wwp"
      },
      "outputs": [],
      "source": []
    },
    {
      "cell_type": "code",
      "execution_count": null,
      "metadata": {
        "id": "gLLaJuaJ9wzZ"
      },
      "outputs": [],
      "source": [
        "# Adam\n",
        "plt.figure(figsize=(10,5))\n",
        "plt.plot(history.history[\"loss\"],label=\"Training Loss\")\n",
        "plt.plot(history.history[\"val_loss\"], label = \"Validation Loss\")\n",
        "plt.title(\"Training Loss & Validation Loss\")\n",
        "plt.xlabel(\"Epoch\")\n",
        "plt.ylabel(\"Loss\")\n",
        "plt.legend()\n",
        "plt.show"
      ]
    },
    {
      "cell_type": "code",
      "execution_count": null,
      "metadata": {
        "id": "y2gd-RYG9w2t"
      },
      "outputs": [],
      "source": []
    },
    {
      "cell_type": "markdown",
      "metadata": {
        "id": "tp4qkmQ99xd0"
      },
      "source": [
        "Input your caption here."
      ]
    },
    {
      "cell_type": "code",
      "execution_count": null,
      "metadata": {
        "id": "KylpBVTog9WN"
      },
      "outputs": [],
      "source": [
        "dataset=df.copy()\n",
        "columns=['RecipeId','Name','CookTime','PrepTime','TotalTime','RecipeIngredientParts','Calories','FatContent','SaturatedFatContent','CholesterolContent','SodiumContent','CarbohydrateContent','FiberContent','SugarContent','ProteinContent','RecipeInstructions']\n",
        "dataset=dataset[columns]"
      ]
    },
    {
      "cell_type": "code",
      "execution_count": null,
      "metadata": {
        "id": "-IFQu1qQg_jT"
      },
      "outputs": [],
      "source": [
        "dataset.count()"
      ]
    },
    {
      "cell_type": "code",
      "execution_count": null,
      "metadata": {
        "id": "XoseGHuAhD1C"
      },
      "outputs": [],
      "source": [
        "max_calories=2000\n",
        "max_daily_fat=100\n",
        "max_daily_Saturatedfat=13\n",
        "max_daily_Cholesterol=300\n",
        "max_daily_Sodium=2300\n",
        "max_daily_Carbohydrate=325\n",
        "max_daily_Fiber=40\n",
        "max_daily_Sugar=40\n",
        "max_daily_Protein=200\n",
        "max_list=[max_calories,\n",
        "          max_daily_fat,\n",
        "          max_daily_Saturatedfat,\n",
        "          max_daily_Cholesterol,\n",
        "          max_daily_Sodium,\n",
        "          max_daily_Carbohydrate,\n",
        "          max_daily_Fiber,\n",
        "          max_daily_Sugar,\n",
        "          max_daily_Protein]"
      ]
    },
    {
      "cell_type": "code",
      "execution_count": null,
      "metadata": {
        "id": "wemLrwPphW1H"
      },
      "outputs": [],
      "source": [
        "dataset_ekstrak = dataset.copy()\n",
        "\n",
        "for kolom, maksimum in zip(dataset_ekstrak.columns[6:15], max_list):\n",
        "  dataset_ekstrak = dataset_ekstrak[dataset_ekstrak[kolom] < maksimum]"
      ]
    },
    {
      "cell_type": "code",
      "execution_count": null,
      "metadata": {
        "id": "CZr9TQf8hYam"
      },
      "outputs": [],
      "source": [
        "dataset_ekstrak.head(5)"
      ]
    },
    {
      "cell_type": "code",
      "execution_count": null,
      "metadata": {
        "id": "8PRQtE91hah6"
      },
      "outputs": [],
      "source": [
        "sns.heatmap(dataset_ekstrak.iloc[:,6:15].corr(),annot=True)"
      ]
    },
    {
      "cell_type": "code",
      "execution_count": null,
      "metadata": {
        "id": "p5K6EpydhcMK"
      },
      "outputs": [],
      "source": [
        "dataset_ekstrak = dataset_ekstrak.reset_index()"
      ]
    },
    {
      "cell_type": "code",
      "execution_count": null,
      "metadata": {
        "id": "IryQzUPohdx3"
      },
      "outputs": [],
      "source": [
        "dataset_ekstrak.drop(['index'], axis=1, inplace=True)"
      ]
    },
    {
      "cell_type": "code",
      "execution_count": null,
      "metadata": {
        "id": "Cu3yldj8hfRW"
      },
      "outputs": [],
      "source": [
        "min_max_scaler = MinMaxScaler()\n",
        "dataset_ekstrak2 = dataset_ekstrak.iloc[:,6:15]\n",
        "\n",
        "dataset_fit = min_max_scaler.fit_transform(dataset_ekstrak2)"
      ]
    },
    {
      "cell_type": "code",
      "execution_count": null,
      "metadata": {
        "id": "AyqXtEFchg09"
      },
      "outputs": [],
      "source": [
        "dataset_fit"
      ]
    },
    {
      "cell_type": "code",
      "execution_count": null,
      "metadata": {
        "id": "5mrskL9HhiMO"
      },
      "outputs": [],
      "source": [
        "model = NearestNeighbors(n_neighbors=10, algorithm='ball_tree').fit(dataset_fit)\n",
        "# KNN return 2 array there is distances dan indices\n",
        "indices = model.kneighbors(dataset_fit, return_distance=False)"
      ]
    },
    {
      "cell_type": "code",
      "execution_count": null,
      "metadata": {
        "id": "3nxbwrcShj25"
      },
      "outputs": [],
      "source": [
        "indices.size"
      ]
    },
    {
      "cell_type": "code",
      "execution_count": null,
      "metadata": {
        "id": "Ln6DTKgRhnl_"
      },
      "outputs": [],
      "source": [
        "all_calories = list(dataset_ekstrak['Calories'].values)"
      ]
    },
    {
      "cell_type": "code",
      "execution_count": null,
      "metadata": {
        "id": "9OFEDYtshnpb"
      },
      "outputs": [],
      "source": [
        "def closest(all_calories, input):\n",
        "    return all_calories[min(range(len(all_calories)), key = lambda i: abs(all_calories[i]-input))]\n",
        "\n",
        "# Breakfast = 0.35, Lunch = 0.40, Dinner = 0.25\n",
        "total_calories = 2000\n",
        "calories_per_eat_time = [total_calories*0.35,total_calories*0.40,total_calories*0.25]\n",
        "calories_per_eat_time = np.array(calories_per_eat_time)\n",
        "# searched_food = closest(all_calories, 200.1) # Kalori\n",
        "searched_food=[]\n",
        "for calories_per_eat_time in calories_per_eat_time:\n",
        "  searched_food.append(closest(all_calories,calories_per_eat_time))"
      ]
    },
    {
      "cell_type": "code",
      "execution_count": null,
      "metadata": {
        "id": "Y13sy1yihnsQ"
      },
      "outputs": [],
      "source": [
        "searched_food_name_calory = dataset_ekstrak.loc[dataset_ekstrak['Calories']==searched_food[0]].head(1).Name.tolist()\n",
        "searched_food_name_calory"
      ]
    },
    {
      "cell_type": "code",
      "execution_count": null,
      "metadata": {
        "id": "Ihq0Ccybhnur"
      },
      "outputs": [],
      "source": [
        "searched_food_name_calory = dataset_ekstrak.loc[dataset_ekstrak['Calories']==searched_food[1]].head(1).Name.tolist()\n",
        "searched_food_name_calory"
      ]
    },
    {
      "cell_type": "code",
      "execution_count": null,
      "metadata": {
        "id": "-wMPrjEwhnxX"
      },
      "outputs": [],
      "source": [
        "searched_food_name_calory = dataset_ekstrak.loc[dataset_ekstrak['Calories']==searched_food[2]].head(1).Name.tolist()\n",
        "searched_food_name_calory"
      ]
    },
    {
      "cell_type": "code",
      "execution_count": null,
      "metadata": {
        "id": "TqdWP0T5hn0t"
      },
      "outputs": [],
      "source": [
        "searched_food_code_calory = []\n",
        "for searched_food in searched_food:\n",
        "  searched_food_code_calory.append(all_calories.index(searched_food))"
      ]
    },
    {
      "cell_type": "code",
      "execution_count": null,
      "metadata": {
        "id": "2ksB9np_hywW"
      },
      "outputs": [],
      "source": [
        "searched_food"
      ]
    },
    {
      "cell_type": "code",
      "execution_count": null,
      "metadata": {
        "id": "KV_jBQ4Rh0hF"
      },
      "outputs": [],
      "source": [
        "searched_food_code_calory"
      ]
    },
    {
      "cell_type": "code",
      "execution_count": null,
      "metadata": {
        "id": "oQUY1OMeh2WZ"
      },
      "outputs": [],
      "source": [
        "# dataset_ekstrak.loc[dataset_ekstrak['Calories']==searched_food].head(1)"
      ]
    },
    {
      "cell_type": "code",
      "execution_count": null,
      "metadata": {
        "id": "mfbQ1DNFh3jy"
      },
      "outputs": [],
      "source": [
        "# print(\"FnB that related to : \",searched_food_name_calory[0])\n",
        "# dataset_ekstrak.loc[indices[searched_food_code_calory]]\n",
        "for i in range(len(searched_food_code_calory)):\n",
        "  if i == 0:\n",
        "    print('Breakfast')\n",
        "    display(dataset_ekstrak.loc[indices[searched_food_code_calory[i]]])\n",
        "  if i == 1:\n",
        "    print('Lunch')\n",
        "    display(dataset_ekstrak.loc[indices[searched_food_code_calory[i]]])\n",
        "  if i == 2:\n",
        "    print('Dinner')\n",
        "    display(dataset_ekstrak.loc[indices[searched_food_code_calory[i]]])"
      ]
    },
    {
      "cell_type": "code",
      "execution_count": null,
      "metadata": {
        "id": "WmW_A8cGh3lz"
      },
      "outputs": [],
      "source": []
    },
    {
      "cell_type": "code",
      "execution_count": null,
      "metadata": {
        "id": "_7fvxYUeh3pQ"
      },
      "outputs": [],
      "source": [
        "import tensorflow as tf\n",
        "import numpy as np\n",
        "\n",
        "# Step 1: Data Preparation\n",
        "# Load food data\n",
        "food_data = df\n",
        "\n",
        "# Split data into features and target\n",
        "features = food_data[:, :4]\n",
        "target = food_data[:, 4]\n",
        "\n",
        "# Normalize features\n",
        "features_norm = (features - np.mean(features, axis=0)) / np.std(features, axis=0)\n",
        "\n",
        "# Split data into training and testing set\n",
        "train_features = features_norm[:80]\n",
        "train_target = target[:80]\n",
        "test_features = features_norm[80:]\n",
        "test_target = target[80:]\n",
        "\n",
        "# Step 2: Model Definition\n",
        "model = tf.keras.Sequential([\n",
        "    tf.keras.layers.Dense(32, activation='relu', input_shape=(4,)),\n",
        "    tf.keras.layers.Dropout(0.2),\n",
        "    tf.keras.layers.Dense(32, activation='relu'),\n",
        "    tf.keras.layers.Dropout(0.2),\n",
        "    tf.keras.layers.Dense(1)\n",
        "])\n",
        "\n",
        "# Compile model\n",
        "model.compile(optimizer='adam', loss='mse')\n",
        "\n",
        "# Step 3: Model Training\n",
        "model.fit(train_features, train_target, epochs=100)\n",
        "\n",
        "# Step 4: Model Evaluation\n",
        "test_loss = model.evaluate(test_features, test_target)\n",
        "\n",
        "# Step 5: Model Implementation\n",
        "# Perform food classification for new food data\n",
        "new_food = np.array([[2, 1, 0, 0]])  # example new food data\n",
        "new_food_norm = (new_food - np.mean(features, axis=0)) / np.std(features, axis=0)\n",
        "predicted_rating = model.predict(new_food_norm)\n"
      ]
    },
    {
      "cell_type": "code",
      "execution_count": null,
      "metadata": {
        "id": "agQQO53Jo4J_"
      },
      "outputs": [],
      "source": []
    },
    {
      "cell_type": "code",
      "source": [
        "import numpy as np\n",
        "import pandas as pd\n",
        "from sklearn.preprocessing import StandardScaler\n",
        "from sklearn.neighbors import NearestNeighbors\n",
        "\n",
        "# Load dataset\n",
        "data = pd.read_csv(\"/content/drive/MyDrive/Capstone/dataset.csv\")\n",
        "\n",
        "# Select relevant features for recommendation\n",
        "features = [\"Calories\"]\n",
        "target = [\"RecipeId\"]\n",
        "\n",
        "# Preprocess data\n",
        "scaler = StandardScaler()\n",
        "data[features] = scaler.fit_transform(data[features])\n",
        "\n",
        "# Create k-NN model\n",
        "model = NearestNeighbors(n_neighbors=10, metric=\"euclidean\")\n",
        "model.fit(data[features])\n",
        "\n",
        "# Parameter API\n",
        "BB = 70  # Body weight in kilograms\n",
        "TB = 170  # Height in centimeters\n",
        "Umur = 25  # Age in years\n",
        "Aktivitas = 1.55  # Activity level (1.375 for Easy, 1.55 for Medium, 1.725 for Hard, 1.9 for Extreme)\n",
        "Target = 1.2  # Target (0.8 for Reduce Weight, 1.2 for Increase Muscle, 1 for Be Healthy)\n",
        "\n",
        "# Calculate BMR based on gender\n",
        "gender = \"Male\"  # Specify \"Male\" or \"Female\"\n",
        "if gender == \"Male\":\n",
        "    BMR = 10 * BB + 6.25 * TB - 5 * Umur + 5\n",
        "elif gender == \"Female\":\n",
        "    BMR = 10 * BB + 6.25 * TB - 5 * Umur - 161\n",
        "else:\n",
        "    raise ValueError(\"Invalid gender value\")\n",
        "\n",
        "# Calculate Maintain Calories\n",
        "Maintain_Calories = BMR * Aktivitas\n",
        "\n",
        "# Calculate Total Calories\n",
        "Total_Calories = Maintain_Calories * Target\n",
        "\n",
        "print(\"Total Calories:\", Total_Calories)\n",
        "\n",
        "# Create new user data\n",
        "new_user = np.array([[Total_Calories]])  # Example user with desired total calories\n",
        "scaled_user = scaler.transform(new_user)\n",
        "\n",
        "# Find nearest neighbors\n",
        "distances, indices = model.kneighbors(scaled_user)\n",
        "\n",
        "# Get recommended recipes based on nearest neighbors\n",
        "recommended_recipes = data.iloc[indices.flatten()]['Name']\n",
        "print(recommended_recipes)\n"
      ],
      "metadata": {
        "colab": {
          "base_uri": "https://localhost:8080/"
        },
        "id": "sl-wucHJRLY0",
        "outputId": "bcdf81c7-13eb-4451-8431-254d12bed70e"
      },
      "execution_count": null,
      "outputs": [
        {
          "output_type": "stream",
          "name": "stdout",
          "text": [
            "Total Calories: 3055.0499999999997\n",
            "       RecipeId                                               Name CookTime  \\\n",
            "20822    468921                        Southern Barbecue Spaghetti     PT4H   \n",
            "14787    370650    Healthy Sugar Free Peanut Butter Banana Cookies    PT15M   \n",
            "21159    476101                                 Honey Walnut Bread    PT20M   \n",
            "21306    480293                     World's Best Seasoned Potatoes    PT30M   \n",
            "17697    412158            Applebee's Style 3 Cheese Chicken Penne    PT15M   \n",
            "7363     245558                                        Pizza Dough    PT10M   \n",
            "3191     125499  My Mom's Homemade Bread &amp; Bun Recipe (No B...     PT2M   \n",
            "22633    530024                  Hot Spicey Tomato Oil for Dipping    PT30M   \n",
            "17929    415505  Sarasota's Chicken Not Steak Crockpot Pepper S...     PT4H   \n",
            "9387     294725                                   Kung Pao Chicken    PT10M   \n",
            "\n",
            "      PrepTime TotalTime                              RecipeIngredientParts  \\\n",
            "20822    PT20M   PT4H20M  c(\"lean ground turkey\", \"onions\", \"fresh mushr...   \n",
            "14787    PT10M     PT25M  c(\"peanut butter\", \"bananas\", \"vanilla\", \"skim...   \n",
            "21159     PT2H   PT2H20M  c(\"fresh yeast\", \"water\", \"honey\", \"salt\", \"wa...   \n",
            "21306    PT15M     PT45M  c(\"potatoes\", \"rosemary\", \"oregano leaves\", \"p...   \n",
            "17697    PT30M     PT45M  c(\"chicken breasts\", \"penne pasta\", \"alfredo s...   \n",
            "7363     PT30M     PT40M  c(\"warm water\", \"active dry yeast\", \"all-purpo...   \n",
            "3191      PT4H    PT4H2M  c(\"water\", \"granulated sugar\", \"margarine\", \"s...   \n",
            "22633     PT5M     PT35M  c(\"olive oil\", \"san marzano tomatoes\", \"garlic...   \n",
            "17929    PT10M   PT4H10M  c(\"chicken\", \"cornstarch\", \"onion\", \"red bell ...   \n",
            "9387     PT20M     PT30M  c(\"water\", \"hoisin sauce\", \"soy sauce\", \"samba...   \n",
            "\n",
            "       Calories  FatContent  SaturatedFatContent  CholesterolContent  \\\n",
            "20822  9.247906         9.5                  2.0                26.1   \n",
            "14787  9.175675        58.1                 11.7                 0.6   \n",
            "21159  8.086865        50.9                  6.0                 0.0   \n",
            "21306  8.062119        31.2                  5.0                 2.9   \n",
            "17697  7.326436        68.8                 11.7                92.8   \n",
            "7363   7.144522        43.3                  6.0                 0.0   \n",
            "3191   6.907097        12.6                  1.7                 0.0   \n",
            "22633  6.777350        58.9                  8.8                 0.0   \n",
            "17929  6.374731        23.5                  6.5               106.3   \n",
            "9387   6.264378        12.6                  2.1                72.8   \n",
            "\n",
            "       SodiumContent  CarbohydrateContent  FiberContent  SugarContent  \\\n",
            "20822          637.5                317.4          15.6          24.2   \n",
            "14787          427.2                231.6          35.0          39.4   \n",
            "21159          600.3                217.3          16.5          14.8   \n",
            "21306          346.9                268.1          37.7          12.6   \n",
            "17697          508.0                139.5          20.4           9.8   \n",
            "7363          1757.0                197.7           8.2           4.9   \n",
            "3191           213.8                249.3          10.1           9.2   \n",
            "22633         1756.3                152.6           7.3          11.9   \n",
            "17929          332.5                182.4          10.1          16.5   \n",
            "9387           861.4                215.4           8.2           4.3   \n",
            "\n",
            "       ProteinContent                                 RecipeInstructions  \\\n",
            "20822            62.5  c(\"In  a large non-stick skillet, cook the tur...   \n",
            "14787            55.9  c(\"In a large bowl, mash bananas with a fork u...   \n",
            "21159            34.5  c(\"Crumble the yeast and dissolve it in one cu...   \n",
            "21306            33.3  c(\"Cut the petite potatoes in halves. Set asid...   \n",
            "17697            44.5  c(\"Chop Chicken and marinade in Italian dressi...   \n",
            "7363             28.5  c(\"Pour 3/4 cup warm water into small bowl; st...   \n",
            "3191             34.7  c(\"In small bowl place the following ingredien...   \n",
            "22633            31.1  c(\"heat oil over medium heat.\", \"add garlic an...   \n",
            "17929            44.3  c(\"Crockpot  --  This is so easy. In a large b...   \n",
            "9387             41.9  c(\"Sauce:   Stir first 5 ingredients in small ...   \n",
            "\n",
            "                                                ImageUrl  \n",
            "20822  https://encrypted-tbn0.gstatic.com/images?q=tb...  \n",
            "14787  https://encrypted-tbn0.gstatic.com/images?q=tb...  \n",
            "21159  https://encrypted-tbn0.gstatic.com/images?q=tb...  \n",
            "21306  https://encrypted-tbn0.gstatic.com/images?q=tb...  \n",
            "17697  https://encrypted-tbn0.gstatic.com/images?q=tb...  \n",
            "7363   https://encrypted-tbn0.gstatic.com/images?q=tb...  \n",
            "3191   https://encrypted-tbn0.gstatic.com/images?q=tb...  \n",
            "22633  https://encrypted-tbn0.gstatic.com/images?q=tb...  \n",
            "17929  https://encrypted-tbn0.gstatic.com/images?q=tb...  \n",
            "9387   https://encrypted-tbn0.gstatic.com/images?q=tb...  \n"
          ]
        },
        {
          "output_type": "stream",
          "name": "stderr",
          "text": [
            "/usr/local/lib/python3.10/dist-packages/sklearn/base.py:439: UserWarning: X does not have valid feature names, but StandardScaler was fitted with feature names\n",
            "  warnings.warn(\n",
            "/usr/local/lib/python3.10/dist-packages/sklearn/base.py:439: UserWarning: X does not have valid feature names, but NearestNeighbors was fitted with feature names\n",
            "  warnings.warn(\n"
          ]
        }
      ]
    },
    {
      "cell_type": "code",
      "source": [
        "\n",
        "# Parameter API\n",
        "BB = 60  # Body weight in kilograms\n",
        "TB = 160  # Height in centimeters\n",
        "Umur = 25  # Age in years\n",
        "Aktivitas = 1.55  # Activity level (1.375 for Easy, 1.55 for Medium, 1.725 for Hard, 1.9 for Extreme)\n",
        "Target = 0.8  # Target (0.8 for Reduce Weight, 1.2 for Increase Muscle, 1 for Be Healthy)\n",
        "\n",
        "# Calculate BMR based on gender\n",
        "gender = \"Female\"  # Specify \"Male\" or \"Female\"\n",
        "if gender == \"Male\":\n",
        "    BMR = 10 * BB + 6.25 * TB - 5 * Umur + 5\n",
        "elif gender == \"Female\":\n",
        "    BMR = 10 * BB + 6.25 * TB - 5 * Umur - 161\n",
        "else:\n",
        "    raise ValueError(\"Invalid gender value\")\n",
        "\n",
        "# Calculate Maintain Calories\n",
        "Maintain_Calories = BMR * Aktivitas\n",
        "\n",
        "# Calculate Total Calories\n",
        "Total_Calories = Maintain_Calories * Target\n",
        "\n",
        "print(\"Total Calories:\", Total_Calories)\n",
        "\n",
        "# Create new user data\n",
        "new_user = np.array([[Total_Calories]])  # Example user with desired total calories\n",
        "scaled_user = scaler.transform(new_user)\n",
        "\n",
        "# Find nearest neighbors\n",
        "distances, indices = model.kneighbors(scaled_user)\n",
        "\n",
        "# Get recommended recipes based on nearest neighbors\n",
        "recommended_recipes = data.iloc[indices.flatten()]['Name']\n",
        "print(recommended_recipes)\n"
      ],
      "metadata": {
        "colab": {
          "base_uri": "https://localhost:8080/"
        },
        "id": "VEplgGMgRU7x",
        "outputId": "efb864b9-2235-4b46-927f-7bf50cdce27c"
      },
      "execution_count": null,
      "outputs": [
        {
          "output_type": "stream",
          "name": "stdout",
          "text": [
            "Total Calories: 1629.3600000000001\n",
            "20822                          Southern Barbecue Spaghetti\n",
            "14787      Healthy Sugar Free Peanut Butter Banana Cookies\n",
            "21159                                   Honey Walnut Bread\n",
            "21306                       World's Best Seasoned Potatoes\n",
            "17697              Applebee's Style 3 Cheese Chicken Penne\n",
            "7363                                           Pizza Dough\n",
            "3191     My Mom's Homemade Bread &amp; Bun Recipe (No B...\n",
            "22633                    Hot Spicey Tomato Oil for Dipping\n",
            "17929    Sarasota's Chicken Not Steak Crockpot Pepper S...\n",
            "9387                                      Kung Pao Chicken\n",
            "Name: Name, dtype: object\n"
          ]
        },
        {
          "output_type": "stream",
          "name": "stderr",
          "text": [
            "/usr/local/lib/python3.10/dist-packages/sklearn/base.py:439: UserWarning: X does not have valid feature names, but StandardScaler was fitted with feature names\n",
            "  warnings.warn(\n",
            "/usr/local/lib/python3.10/dist-packages/sklearn/base.py:439: UserWarning: X does not have valid feature names, but NearestNeighbors was fitted with feature names\n",
            "  warnings.warn(\n"
          ]
        }
      ]
    },
    {
      "cell_type": "code",
      "source": [],
      "metadata": {
        "id": "gJGGV9llRpcg"
      },
      "execution_count": null,
      "outputs": []
    }
  ],
  "metadata": {
    "colab": {
      "provenance": []
    },
    "kernelspec": {
      "display_name": "Python 3",
      "name": "python3"
    },
    "language_info": {
      "name": "python"
    }
  },
  "nbformat": 4,
  "nbformat_minor": 0
}